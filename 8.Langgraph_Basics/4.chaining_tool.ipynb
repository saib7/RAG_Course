{
 "cells": [
  {
   "cell_type": "markdown",
   "id": "b0590c63",
   "metadata": {},
   "source": [
    "### Chain Using LangGraph\n",
    "In this section we will see how we can build a simple chain using Langgraph that uses 4 important concepts\n",
    "\n",
    "- How to use chat messages as our graph state\n",
    "- How to use chat models in graph nodes\n",
    "- How to bind tools to our LLM in chat models\n",
    "- How to execute the tools call in our graph nodes "
   ]
  },
  {
   "cell_type": "code",
   "execution_count": 1,
   "id": "be471548",
   "metadata": {},
   "outputs": [
    {
     "name": "stdout",
     "output_type": "stream",
     "text": [
      "✓ API keys loaded successfully\n"
     ]
    }
   ],
   "source": [
    "\"\"\"\n",
    "STEP 3: Environment Setup\n",
    "Load API credentials securely from environment variables.\n",
    "\"\"\"\n",
    "\n",
    "import os\n",
    "from dotenv import load_dotenv\n",
    "\n",
    "# Load environment variables from .env file\n",
    "load_dotenv()\n",
    "\n",
    "# Get Google API key with error handling\n",
    "GOOGLE_API_KEY = os.getenv('GOOGLE_API_KEY')\n",
    "if not GOOGLE_API_KEY:\n",
    "    raise ValueError(\"GOOGLE_API_KEY not found in environment variables\")\n",
    "\n",
    "print(\"✓ API keys loaded successfully\")"
   ]
  },
  {
   "cell_type": "code",
   "execution_count": 3,
   "id": "43566a73",
   "metadata": {},
   "outputs": [
    {
     "name": "stderr",
     "output_type": "stream",
     "text": [
      "/home/bjit/Desktop/Storage01/SelfDevelopment/Rag_Course/.venv/lib/python3.12/site-packages/tqdm/auto.py:21: TqdmWarning: IProgress not found. Please update jupyter and ipywidgets. See https://ipywidgets.readthedocs.io/en/stable/user_install.html\n",
      "  from .autonotebook import tqdm as notebook_tqdm\n"
     ]
    },
    {
     "name": "stdout",
     "output_type": "stream",
     "text": [
      "✓ Gemini model initialized for reranking\n"
     ]
    }
   ],
   "source": [
    "from langchain_google_genai import GoogleGenerativeAIEmbeddings, ChatGoogleGenerativeAI\n",
    "\n",
    "# Initialize Google embeddings model for vector representation\n",
    "embedding_model = GoogleGenerativeAIEmbeddings(\n",
    "    model=\"models/gemini-embedding-001\", \n",
    "    google_api_key=GOOGLE_API_KEY\n",
    ")\n",
    "\n",
    "\n",
    "# Initialize Google's Gemini model for response generation\n",
    "llm = ChatGoogleGenerativeAI(\n",
    "    google_api_key=GOOGLE_API_KEY,\n",
    "    model=\"gemini-2.0-flash\",    # Latest fast Gemini model for quick reranking\n",
    "    temperature=0,               # Deterministic output for consistency in ranking\n",
    "    max_tokens=None,            # Use model default token limit\n",
    "    timeout=None,               # No timeout limit for ranking requests\n",
    "    max_retries=2,              # Retry failed requests twice\n",
    ")\n",
    "\n",
    "print(\"✓ Gemini model initialized for reranking\")"
   ]
  },
  {
   "cell_type": "markdown",
   "id": "5f89d04d",
   "metadata": {},
   "source": [
    "#### How to use chat messages as our graph state\n",
    "##### Messages\n",
    "\n",
    "We can use messages which can be used to capture different roles within a conversation.\n",
    "LangChain has various message types including HumanMessage, AIMessage, SystemMessage and ToolMessage.\n",
    "These represent a message from the user, from chat model, for the chat model to instruct behavior, and from a tool call.\n",
    "\n",
    "Every message have these important components.\n",
    "\n",
    "- content - content of the message\n",
    "- name - Specify the name of author\n",
    "- response_metadata - optionally, a dict of metadata (e.g., often populated by model provider for AIMessages)\n",
    "\n"
   ]
  },
  {
   "cell_type": "code",
   "execution_count": 4,
   "id": "8f7b65fa",
   "metadata": {},
   "outputs": [
    {
     "name": "stdout",
     "output_type": "stream",
     "text": [
      "==================================\u001b[1m Ai Message \u001b[0m==================================\n",
      "Name: LLMModel\n",
      "\n",
      "Please tell me how can I help\n",
      "================================\u001b[1m Human Message \u001b[0m=================================\n",
      "Name: Saib\n",
      "\n",
      "I want to learn coding\n",
      "==================================\u001b[1m Ai Message \u001b[0m==================================\n",
      "Name: LLMModel\n",
      "\n",
      "Which programming language you want to learn\n",
      "================================\u001b[1m Human Message \u001b[0m=================================\n",
      "Name: Saib\n",
      "\n",
      "I want to learn python programming language\n"
     ]
    }
   ],
   "source": [
    "from langchain_core.messages import AIMessage,HumanMessage\n",
    "from pprint import pprint\n",
    "\n",
    "messages=[AIMessage(content=f\"Please tell me how can I help\",name=\"LLMModel\")]\n",
    "messages.append(HumanMessage(content=f\"I want to learn coding\",name=\"Saib\"))\n",
    "messages.append(AIMessage(content=f\"Which programming language you want to learn\",name=\"LLMModel\"))\n",
    "messages.append(HumanMessage(content=f\"I want to learn python programming language\",name=\"Saib\"))\n",
    "\n",
    "for message in messages:\n",
    "    message.pretty_print()\n",
    "\n"
   ]
  },
  {
   "cell_type": "markdown",
   "id": "2cee2c5b",
   "metadata": {},
   "source": [
    "### Chat Models\n",
    "\n",
    "We can use the sequence of message as input with the chatmodels using LLM's and OPENAI."
   ]
  },
  {
   "cell_type": "code",
   "execution_count": 5,
   "id": "71cbf501",
   "metadata": {},
   "outputs": [],
   "source": [
    "result=llm.invoke(messages)"
   ]
  },
  {
   "cell_type": "code",
   "execution_count": 6,
   "id": "68a52f0b",
   "metadata": {},
   "outputs": [
    {
     "data": {
      "text/plain": [
       "{'prompt_feedback': {'block_reason': 0, 'safety_ratings': []},\n",
       " 'finish_reason': 'STOP',\n",
       " 'safety_ratings': []}"
      ]
     },
     "execution_count": 6,
     "metadata": {},
     "output_type": "execute_result"
    }
   ],
   "source": [
    "result.response_metadata"
   ]
  },
  {
   "cell_type": "code",
   "execution_count": 10,
   "id": "1f660c8b",
   "metadata": {},
   "outputs": [
    {
     "name": "stdout",
     "output_type": "stream",
     "text": [
      "Okay, great choice! Python is a fantastic language for beginners and experienced programmers alike. It's versatile and used in many fields. Here's a structured approach to learning Python, along with resources and tips:\n",
      "\n",
      "**1. Set Up Your Environment:**\n",
      "\n",
      "*   **Install Python:** Download the latest version of Python from the official website: [https://www.python.org/downloads/](https://www.python.org/downloads/)  Make sure to check the box that says \"Add Python to PATH\" during the installation process. This makes it easier to run Python from your command line.\n",
      "*   **Choose a Code Editor or IDE (Integrated Development Environment):**\n",
      "    *   **Beginner-Friendly:**\n",
      "        *   **Thonny:**  A simple and easy-to-use IDE specifically designed for beginners. It comes with Python pre-installed.\n",
      "        *   **IDLE:**  The default IDE that comes with Python. It's basic but functional.\n",
      "    *   **More Advanced (but still good for beginners):**\n",
      "        *   **Visual Studio Code (VS Code):**  A very popular and powerful code editor with excellent Python support (install the Python extension).\n",
      "        *   **PyCharm Community Edition:**  A free and powerful IDE specifically for Python development.\n",
      "        *   **Sublime Text:** A popular code editor with a free trial. You'll need to install the Package Control and then the Python package.\n",
      "\n",
      "**2. Learn the Fundamentals:**\n",
      "\n",
      "*   **Basic Syntax:**\n",
      "    *   **Variables:** How to store data (e.g., `x = 5`, `name = \"Alice\"`).\n",
      "    *   **Data Types:**  Integers (`int`), floating-point numbers (`float`), strings (`str`), booleans (`bool`), lists (`list`), tuples (`tuple`), dictionaries (`dict`), sets (`set`).\n",
      "    *   **Operators:**  Arithmetic operators (+, -, \\*, /, %), comparison operators (==, !=, >, <, >=, <=), logical operators (and, or, not).\n",
      "    *   **Input/Output:**  How to get input from the user (`input()`) and print output to the console (`print()`).\n",
      "*   **Control Flow:**\n",
      "    *   **Conditional Statements:** `if`, `elif`, `else` statements for making decisions.\n",
      "    *   **Loops:** `for` loops for iterating over sequences (lists, strings, etc.) and `while` loops for repeating code until a condition is met.\n",
      "*   **Functions:**\n",
      "    *   Defining functions using `def`.\n",
      "    *   Passing arguments to functions.\n",
      "    *   Returning values from functions.\n",
      "*   **Data Structures:**\n",
      "    *   **Lists:** Ordered, mutable (changeable) collections of items.\n",
      "    *   **Tuples:** Ordered, immutable (unchangeable) collections of items.\n",
      "    *   **Dictionaries:** Key-value pairs for storing and retrieving data.\n",
      "    *   **Sets:** Unordered collections of unique items.\n",
      "*   **Error Handling:**\n",
      "    *   `try...except` blocks for handling exceptions (errors) gracefully.\n",
      "\n",
      "**3. Resources for Learning:**\n",
      "\n",
      "*   **Online Courses:**\n",
      "    *   **Codecademy:**  Excellent interactive Python course for beginners.\n",
      "    *   **Coursera:**  Offers Python courses from universities like the University of Michigan and Rice University.  Look for \"Python for Everybody\" or \"Python Data Structures.\"\n",
      "    *   **edX:**  Similar to Coursera, with courses from Harvard and other institutions.\n",
      "    *   **Udemy:**  A wide variety of Python courses, often at discounted prices.  Look for courses with high ratings and many students.\n",
      "    *   **DataCamp:**  Focuses on data science with Python.\n",
      "*   **Interactive Tutorials:**\n",
      "    *   **Learn Python:** [https://www.learnpython.org/](https://www.learnpython.org/)\n",
      "    *   **Google's Python Class:** [https://developers.google.com/edu/python/](https://developers.google.com/edu/python/)\n",
      "*   **Books:**\n",
      "    *   **\"Python Crash Course\" by Eric Matthes:**  A great book for beginners that covers a wide range of topics.\n",
      "    *   **\"Automate the Boring Stuff with Python\" by Al Sweigart:**  Focuses on practical applications of Python for automating tasks.  Available for free online.\n",
      "    *   **\"Think Python\" by Allen B. Downey:**  A free book that teaches programming concepts using Python.\n",
      "*   **Official Python Documentation:** [https://docs.python.org/3/](https://docs.python.org/3/)  A comprehensive resource for all things Python.\n",
      "*   **YouTube Channels:**\n",
      "    *   **freeCodeCamp.org:**  Has many full Python courses.\n",
      "    *   **Corey Schafer:**  Excellent tutorials on various Python topics.\n",
      "    *   **Sentdex:**  Covers a wide range of Python topics, including data science and machine learning.\n",
      "\n",
      "**4. Practice, Practice, Practice!**\n",
      "\n",
      "*   **Write Small Programs:**  Start with simple programs like:\n",
      "    *   A calculator.\n",
      "    *   A program that asks for your name and greets you.\n",
      "    *   A program that converts temperatures between Celsius and Fahrenheit.\n",
      "    *   A simple game like \"Guess the Number.\"\n",
      "*   **Work Through Exercises:**  Many online courses and books include exercises to test your understanding.\n",
      "*   **Contribute to Open Source Projects:**  Once you have a good grasp of the basics, consider contributing to open-source projects on GitHub. This is a great way to learn from experienced developers and improve your skills.\n",
      "*   **Solve Coding Challenges:**\n",
      "    *   **HackerRank:**  Offers a wide range of coding challenges in Python.\n",
      "    *   **LeetCode:**  Focuses on algorithm and data structure problems, often used for interview preparation.\n",
      "    *   **Codewars:**  A fun way to practice coding with \"kata\" (challenges).\n",
      "\n",
      "**5. Key Tips for Success:**\n",
      "\n",
      "*   **Be Consistent:**  Try to code every day, even if it's just for 30 minutes.\n",
      "*   **Don't Be Afraid to Ask for Help:**  If you get stuck, don't hesitate to ask for help on forums like Stack Overflow or Reddit (r/learnpython).\n",
      "*   **Break Down Problems:**  When faced with a complex problem, break it down into smaller, more manageable steps.\n",
      "*   **Read Other People's Code:**  Reading code written by experienced developers is a great way to learn new techniques and improve your coding style.\n",
      "*   **Debug Your Code:**  Learn how to use a debugger to step through your code and identify errors.\n",
      "*   **Stay Motivated:**  Learning to code can be challenging, but it's also very rewarding.  Focus on the progress you're making and celebrate your successes.\n",
      "*   **Focus on Understanding, Not Memorization:**  It's more important to understand the underlying concepts than to memorize syntax.  You can always look up the syntax when you need it.\n",
      "*   **Use a Version Control System (Git):**  Learn how to use Git for version control.  This is essential for collaborating with other developers and tracking changes to your code.\n",
      "\n",
      "**Where to Start (A Suggested Path):**\n",
      "\n",
      "1.  **Install Python and choose a code editor (Thonny is a good starting point).**\n",
      "2.  **Work through a beginner-friendly online course like Codecademy's Python course.**\n",
      "3.  **Start writing small programs to practice what you've learned.**\n",
      "4.  **Choose a project that interests you and start working on it.**\n",
      "5.  **Continue learning and practicing, and don't be afraid to ask for help!**\n",
      "\n",
      "Good luck with your Python journey! Let me know if you have any more specific questions as you go along. I'm here to help!\n"
     ]
    }
   ],
   "source": [
    "print(result.content)"
   ]
  },
  {
   "cell_type": "markdown",
   "id": "3d12e082",
   "metadata": {},
   "source": [
    "### Tools\n",
    "Tools can be integrated with the LLM models to interact with external systems. External systems can be API's, third party tools.\n",
    "\n",
    "Whenever a query is asked the model can choose to call the tool and this query is based on the \n",
    "natural language input and this will return an output that matches the tool's schema"
   ]
  },
  {
   "cell_type": "code",
   "execution_count": 11,
   "id": "ca14024f",
   "metadata": {},
   "outputs": [],
   "source": [
    "def add(a:int,b:int)-> int:\n",
    "    \"\"\" Add a and b\n",
    "    Args:\n",
    "        a (int): first int\n",
    "        b (int): second int\n",
    "\n",
    "    Returns:\n",
    "        int\n",
    "    \"\"\"\n",
    "    return a+b"
   ]
  },
  {
   "cell_type": "code",
   "execution_count": 12,
   "id": "fc76e56e",
   "metadata": {},
   "outputs": [
    {
     "data": {
      "text/plain": [
       "ChatGoogleGenerativeAI(model='models/gemini-2.0-flash', google_api_key=SecretStr('**********'), temperature=0.0, max_retries=2, client=<google.ai.generativelanguage_v1beta.services.generative_service.client.GenerativeServiceClient object at 0x7d9a99526090>, default_metadata=())"
      ]
     },
     "execution_count": 12,
     "metadata": {},
     "output_type": "execute_result"
    }
   ],
   "source": [
    "llm"
   ]
  },
  {
   "cell_type": "code",
   "execution_count": 13,
   "id": "fa7a684e",
   "metadata": {},
   "outputs": [],
   "source": [
    "### Binding tool with llm\n",
    "\n",
    "llm_with_tools=llm.bind_tools([add])\n",
    "\n",
    "tool_call=llm_with_tools.invoke([HumanMessage(content=f\"What is 2 plus 2\",name=\"Saib\")])"
   ]
  },
  {
   "cell_type": "code",
   "execution_count": 14,
   "id": "9bf72325",
   "metadata": {},
   "outputs": [
    {
     "data": {
      "text/plain": [
       "[{'name': 'add',\n",
       "  'args': {'a': 2.0, 'b': 2.0},\n",
       "  'id': '6f0b7146-c65c-4f68-8e75-8143d0a992f0',\n",
       "  'type': 'tool_call'}]"
      ]
     },
     "execution_count": 14,
     "metadata": {},
     "output_type": "execute_result"
    }
   ],
   "source": [
    "tool_call.tool_calls"
   ]
  },
  {
   "cell_type": "code",
   "execution_count": 25,
   "id": "914b2b5d",
   "metadata": {},
   "outputs": [
    {
     "data": {
      "text/plain": [
       "AIMessage(content='', additional_kwargs={'function_call': {'name': 'add', 'arguments': '{\"a\": 2.0, \"b\": 2.0}'}}, response_metadata={'prompt_feedback': {'block_reason': 0, 'safety_ratings': []}, 'finish_reason': 'STOP', 'safety_ratings': []}, id='run--c5284f7d-9618-49ed-9d74-eaef36f936d6-0', tool_calls=[{'name': 'add', 'args': {'a': 2.0, 'b': 2.0}, 'id': '6f0b7146-c65c-4f68-8e75-8143d0a992f0', 'type': 'tool_call'}], usage_metadata={'input_tokens': 38, 'output_tokens': 5, 'total_tokens': 43, 'input_token_details': {'cache_read': 0}})"
      ]
     },
     "execution_count": 25,
     "metadata": {},
     "output_type": "execute_result"
    }
   ],
   "source": [
    "tool_call"
   ]
  },
  {
   "cell_type": "markdown",
   "id": "08d00c85",
   "metadata": {},
   "source": [
    "### Using messages as state"
   ]
  },
  {
   "cell_type": "code",
   "execution_count": 15,
   "id": "e156dd9b",
   "metadata": {},
   "outputs": [],
   "source": [
    "from typing_extensions import TypedDict\n",
    "from langchain_core.messages import AnyMessage\n",
    "\n",
    "class State(TypedDict):\n",
    "    message:list[AnyMessage]"
   ]
  },
  {
   "cell_type": "markdown",
   "id": "f7984d15",
   "metadata": {},
   "source": [
    "#### Reducers\n",
    "Now, we have a minor problem!\n",
    "\n",
    "As we discussed, each node will return a new value for our state key messages.\n",
    "\n",
    "But, this new value will override the prior messages value.\n",
    "\n",
    "As our graph runs, we want to append messages to our messages state key.\n",
    "\n",
    "We can use reducer functions to address this.\n",
    "\n",
    "Reducers allow us to specify how state updates are performed.\n",
    "\n",
    "If no reducer function is specified, then it is assumed that updates to the key should override it as we saw before.\n",
    "\n",
    "But, to append messages, we can use the pre-built add_messages reducer.\n",
    "\n",
    "This ensures that any messages are appended to the existing list of messages.\n",
    "\n",
    "We simply need to annotate our messages key with the add_messages reducer function as metadata."
   ]
  },
  {
   "cell_type": "code",
   "execution_count": 16,
   "id": "27fdb31e",
   "metadata": {},
   "outputs": [],
   "source": [
    "from langgraph.graph.message import add_messages\n",
    "from typing import Annotated\n",
    "class State(TypedDict):\n",
    "    messages:Annotated[list[AnyMessage],add_messages]"
   ]
  },
  {
   "cell_type": "markdown",
   "id": "d54bac78",
   "metadata": {},
   "source": [
    "### Reducers with add_messages"
   ]
  },
  {
   "cell_type": "code",
   "execution_count": 17,
   "id": "1de8b5d5",
   "metadata": {},
   "outputs": [
    {
     "data": {
      "text/plain": [
       "[AIMessage(content='Please tell me how can I help', additional_kwargs={}, response_metadata={}, name='LLMModel'),\n",
       " HumanMessage(content='I want to learn coding', additional_kwargs={}, response_metadata={}, name='Saib')]"
      ]
     },
     "execution_count": 17,
     "metadata": {},
     "output_type": "execute_result"
    }
   ],
   "source": [
    "initial_messages=[AIMessage(content=f\"Please tell me how can I help\",name=\"LLMModel\")]\n",
    "initial_messages.append(HumanMessage(content=f\"I want to learn coding\",name=\"Saib\"))\n",
    "initial_messages"
   ]
  },
  {
   "cell_type": "code",
   "execution_count": 18,
   "id": "4413adcb",
   "metadata": {},
   "outputs": [
    {
     "data": {
      "text/plain": [
       "AIMessage(content='Which programming language you want to learn', additional_kwargs={}, response_metadata={}, name='LLMModel')"
      ]
     },
     "execution_count": 18,
     "metadata": {},
     "output_type": "execute_result"
    }
   ],
   "source": [
    "ai_message=AIMessage(content=f\"Which programming language you want to learn\",name=\"LLMModel\")\n",
    "ai_message"
   ]
  },
  {
   "cell_type": "code",
   "execution_count": 19,
   "id": "95503e04",
   "metadata": {},
   "outputs": [
    {
     "data": {
      "text/plain": [
       "[AIMessage(content='Please tell me how can I help', additional_kwargs={}, response_metadata={}, name='LLMModel', id='c372c39c-d639-456b-af1e-98da7f62bb2a'),\n",
       " HumanMessage(content='I want to learn coding', additional_kwargs={}, response_metadata={}, name='Saib', id='bba56e15-de9a-4ea1-81e5-7f1cb9691b70'),\n",
       " AIMessage(content='Which programming language you want to learn', additional_kwargs={}, response_metadata={}, name='LLMModel', id='3d9a1b47-338d-4b17-a83c-ade7b34b10e4')]"
      ]
     },
     "execution_count": 19,
     "metadata": {},
     "output_type": "execute_result"
    }
   ],
   "source": [
    "### Reducers add_messages is to append instead of override\n",
    "add_messages(initial_messages,ai_message)"
   ]
  },
  {
   "cell_type": "code",
   "execution_count": 20,
   "id": "41bfd21f",
   "metadata": {},
   "outputs": [],
   "source": [
    "## chatbot node functionality\n",
    "def llm_tool(state:State):\n",
    "    return {\"messages\":[llm_with_tools.invoke(state[\"messages\"])]}"
   ]
  },
  {
   "cell_type": "code",
   "execution_count": 21,
   "id": "28a8398e",
   "metadata": {},
   "outputs": [
    {
     "data": {
      "image/png": "[encoded data removed]",
      "text/plain": [
       "<IPython.core.display.Image object>"
      ]
     },
     "metadata": {},
     "output_type": "display_data"
    }
   ],
   "source": [
    "from IPython.display import Image, display\n",
    "from langgraph.graph import StateGraph, START, END\n",
    "from langchain_core.runnables.graph import MermaidDrawMethod \n",
    "\n",
    "import nest_asyncio\n",
    "nest_asyncio.apply()\n",
    "\n",
    "builder=StateGraph(State)\n",
    "\n",
    "builder.add_node(\"llm_tool\",llm_tool)\n",
    "\n",
    "builder.add_edge(START,\"llm_tool\")\n",
    "builder.add_edge(\"llm_tool\",END)\n",
    "\n",
    "graph=builder.compile()\n",
    "\n",
    "display(Image(graph.get_graph().draw_mermaid_png(draw_method=MermaidDrawMethod.PYPPETEER)))"
   ]
  },
  {
   "cell_type": "code",
   "execution_count": 22,
   "id": "e4c24b5b",
   "metadata": {},
   "outputs": [
    {
     "name": "stdout",
     "output_type": "stream",
     "text": [
      "================================\u001b[1m Human Message \u001b[0m=================================\n",
      "\n",
      "What is 2 plus 9\n",
      "==================================\u001b[1m Ai Message \u001b[0m==================================\n",
      "Tool Calls:\n",
      "  add (d0c985c2-2183-4653-987a-71a70bb0530a)\n",
      " Call ID: d0c985c2-2183-4653-987a-71a70bb0530a\n",
      "  Args:\n",
      "    a: 2.0\n",
      "    b: 9.0\n"
     ]
    }
   ],
   "source": [
    "## invocation\n",
    "\n",
    "messages=graph.invoke({\"messages\":\"What is 2 plus 9\"})\n",
    "\n",
    "for message in messages[\"messages\"]:\n",
    "    message.pretty_print()"
   ]
  },
  {
   "cell_type": "code",
   "execution_count": 24,
   "id": "02adbb49",
   "metadata": {},
   "outputs": [
    {
     "data": {
      "text/plain": [
       "{'messages': [HumanMessage(content='What is 2 plus 9', additional_kwargs={}, response_metadata={}, id='a83a1ecf-be93-4ced-b75f-59ea557c29e3'),\n",
       "  AIMessage(content='', additional_kwargs={'function_call': {'name': 'add', 'arguments': '{\"a\": 2.0, \"b\": 9.0}'}}, response_metadata={'prompt_feedback': {'block_reason': 0, 'safety_ratings': []}, 'finish_reason': 'STOP', 'safety_ratings': []}, id='run--2e21b41a-7bd0-4f1a-82f5-afea3d7b5bbe-0', tool_calls=[{'name': 'add', 'args': {'a': 2.0, 'b': 9.0}, 'id': 'd0c985c2-2183-4653-987a-71a70bb0530a', 'type': 'tool_call'}], usage_metadata={'input_tokens': 38, 'output_tokens': 5, 'total_tokens': 43, 'input_token_details': {'cache_read': 0}})]}"
      ]
     },
     "execution_count": 24,
     "metadata": {},
     "output_type": "execute_result"
    }
   ],
   "source": [
    "messages"
   ]
  },
  {
   "cell_type": "code",
   "execution_count": 23,
   "id": "b88e0f76",
   "metadata": {},
   "outputs": [],
   "source": [
    "tools=[add]"
   ]
  },
  {
   "cell_type": "code",
   "execution_count": 29,
   "id": "41eb166a",
   "metadata": {},
   "outputs": [],
   "source": [
    "from langgraph.prebuilt import ToolNode\n",
    "from langgraph.prebuilt import tools_condition\n",
    "\n",
    "\n",
    "builder=StateGraph(State)\n",
    "\n",
    "## Add nodes\n",
    "\n",
    "builder.add_node(\"llm_tool\",llm_tool)\n",
    "builder.add_node(\"tools\",ToolNode(tools))\n",
    "\n",
    "## Add Edge\n",
    "builder.add_edge(START,\"llm_tool\")\n",
    "builder.add_conditional_edges(\n",
    "    \"llm_tool\",\n",
    "    # If the latest message (result) from assistant is a tool call -> tools_condition routes to tools\n",
    "    # If the latest message (result) from assistant is a not a tool call -> tools_condition routes to END\n",
    "    tools_condition\n",
    ")\n",
    "builder.add_edge(\"tools\",END)\n",
    "builder.add_edge(\"llm_tool\",END)\n",
    "\n",
    "\n",
    "graph_builder = builder.compile()\n",
    "\n"
   ]
  },
  {
   "cell_type": "code",
   "execution_count": 30,
   "id": "b39939de",
   "metadata": {},
   "outputs": [
    {
     "data": {
      "image/png": "[encoded data removed]",
      "text/plain": [
       "<IPython.core.display.Image object>"
      ]
     },
     "metadata": {},
     "output_type": "display_data"
    }
   ],
   "source": [
    "from langchain_core.runnables.graph import MermaidDrawMethod \n",
    "display(Image(graph_builder.get_graph().draw_mermaid_png(draw_method=MermaidDrawMethod.PYPPETEER)))"
   ]
  },
  {
   "cell_type": "code",
   "execution_count": 32,
   "id": "29f2161a",
   "metadata": {},
   "outputs": [
    {
     "name": "stdout",
     "output_type": "stream",
     "text": [
      "================================\u001b[1m Human Message \u001b[0m=================================\n",
      "\n",
      "What is 2 plus 9\n",
      "==================================\u001b[1m Ai Message \u001b[0m==================================\n",
      "Tool Calls:\n",
      "  add (499eb1b8-7b41-4722-a9bd-df3091031d50)\n",
      " Call ID: 499eb1b8-7b41-4722-a9bd-df3091031d50\n",
      "  Args:\n",
      "    a: 2.0\n",
      "    b: 9.0\n",
      "=================================\u001b[1m Tool Message \u001b[0m=================================\n",
      "Name: add\n",
      "\n",
      "11\n"
     ]
    }
   ],
   "source": [
    "## invocation\n",
    "\n",
    "messages=graph_builder.invoke({\"messages\":\"What is 2 plus 9\"})\n",
    "\n",
    "for message in messages[\"messages\"]:\n",
    "    message.pretty_print()"
   ]
  },
  {
   "cell_type": "code",
   "execution_count": 33,
   "id": "762678f1",
   "metadata": {},
   "outputs": [
    {
     "name": "stdout",
     "output_type": "stream",
     "text": [
      "================================\u001b[1m Human Message \u001b[0m=================================\n",
      "\n",
      "What Machine Learning\n",
      "==================================\u001b[1m Ai Message \u001b[0m==================================\n",
      "\n",
      "I am designed to perform addition operations. I cannot provide information about Machine Learning.\n"
     ]
    }
   ],
   "source": [
    "messages=graph_builder.invoke({\"messages\":\"What Machine Learning\"})\n",
    "\n",
    "for message in messages[\"messages\"]:\n",
    "    message.pretty_print()"
   ]
  },
  {
   "cell_type": "code",
   "execution_count": null,
   "id": "f127c360",
   "metadata": {},
   "outputs": [],
   "source": []
  }
 ],
 "metadata": {
  "kernelspec": {
   "display_name": "Rag_Course",
   "language": "python",
   "name": "python3"
  },
  "language_info": {
   "codemirror_mode": {
    "name": "ipython",
    "version": 3
   },
   "file_extension": ".py",
   "mimetype": "text/x-python",
   "name": "python",
   "nbconvert_exporter": "python",
   "pygments_lexer": "ipython3",
   "version": "3.12.3"
  }
 },
 "nbformat": 4,
 "nbformat_minor": 5
}
