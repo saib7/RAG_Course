{
 "cells": [
  {
   "cell_type": "markdown",
   "id": "90e8e6bb",
   "metadata": {},
   "source": [
    "### Building Chatbot With Multiple Tools Using Langgraph\n",
    "\n",
    "#### Aim\n",
    "Create a chatbot with tool capabilities from arxiv, wikipedia search and some functions"
   ]
  },
  {
   "cell_type": "code",
   "execution_count": 1,
   "id": "046cadd5",
   "metadata": {},
   "outputs": [],
   "source": [
    "from langchain_community.tools import ArxivQueryRun,WikipediaQueryRun\n",
    "from langchain_community.utilities import WikipediaAPIWrapper,ArxivAPIWrapper"
   ]
  },
  {
   "cell_type": "code",
   "execution_count": 3,
   "id": "061b936c",
   "metadata": {},
   "outputs": [
    {
     "name": "stdout",
     "output_type": "stream",
     "text": [
      "arxiv\n"
     ]
    }
   ],
   "source": [
    "api_wrapper_arxiv=ArxivAPIWrapper(top_k_results=2,doc_content_chars_max=500)\n",
    "arxiv=ArxivQueryRun(api_wrapper=api_wrapper_arxiv)\n",
    "print(arxiv.name)"
   ]
  },
  {
   "cell_type": "code",
   "execution_count": 4,
   "id": "127bfea4",
   "metadata": {},
   "outputs": [
    {
     "data": {
      "text/plain": [
       "\"Published: 2024-07-22\\nTitle: Attention Is All You Need But You Don't Need All Of It For Inference of Large Language Models\\nAuthors: Georgy Tyukin, Gbetondji J-S Dovonon, Jean Kaddour, Pasquale Minervini\\nSummary: The inference demand for LLMs has skyrocketed in recent months, and serving\\nmodels with low latencies remains challenging due to the quadratic input length\\ncomplexity of the attention layers. In this work, we investigate the effect of\\ndropping MLP and attention layers at inference time o\""
      ]
     },
     "execution_count": 4,
     "metadata": {},
     "output_type": "execute_result"
    }
   ],
   "source": [
    "arxiv.invoke(\"Attention iss all you need\")"
   ]
  },
  {
   "cell_type": "code",
   "execution_count": 6,
   "id": "35295454",
   "metadata": {},
   "outputs": [
    {
     "data": {
      "text/plain": [
       "'wikipedia'"
      ]
     },
     "execution_count": 6,
     "metadata": {},
     "output_type": "execute_result"
    }
   ],
   "source": [
    "api_wrapper_wiki=WikipediaAPIWrapper(top_k_results=1,doc_content_chars_max=500)\n",
    "wiki=WikipediaQueryRun(api_wrapper=api_wrapper_wiki)\n",
    "wiki.name"
   ]
  },
  {
   "cell_type": "code",
   "execution_count": 7,
   "id": "0d19f002",
   "metadata": {},
   "outputs": [
    {
     "data": {
      "text/plain": [
       "'Page: Machine learning\\nSummary: Machine learning (ML) is a field of study in artificial intelligence concerned with the development and study of statistical algorithms that can learn from data and generalise to unseen data, and thus perform tasks without explicit instructions. Within a subdiscipline in machine learning, advances in the field of deep learning have allowed neural networks, a class of statistical algorithms, to surpass many previous machine learning approaches in performance.\\nML fi'"
      ]
     },
     "execution_count": 7,
     "metadata": {},
     "output_type": "execute_result"
    }
   ],
   "source": [
    "wiki.invoke(\"What is machine learning\")"
   ]
  },
  {
   "cell_type": "code",
   "execution_count": 11,
   "id": "b1dc0bf0",
   "metadata": {},
   "outputs": [
    {
     "name": "stdout",
     "output_type": "stream",
     "text": [
      "✓ API keys loaded successfully\n"
     ]
    }
   ],
   "source": [
    "\"\"\"\n",
    "STEP 3: Environment Setup\n",
    "Load API credentials securely from environment variables.\n",
    "\"\"\"\n",
    "\n",
    "import os\n",
    "from dotenv import load_dotenv\n",
    "\n",
    "# Load environment variables from .env file\n",
    "load_dotenv()\n",
    "\n",
    "# Get Google API key with error handling\n",
    "GOOGLE_API_KEY = os.getenv('GOOGLE_API_KEY')\n",
    "if not GOOGLE_API_KEY:\n",
    "    raise ValueError(\"GOOGLE_API_KEY not found in environment variables\")\n",
    "TAVILY_API_KEY = os.getenv('TAVILY_API_KEY')\n",
    "if not TAVILY_API_KEY:\n",
    "    raise ValueError(\"TAVILY_API_KEY not found in environment variables\")\n",
    "\n",
    "print(\"✓ API keys loaded successfully\")"
   ]
  },
  {
   "cell_type": "code",
   "execution_count": 9,
   "id": "38e35fd5",
   "metadata": {},
   "outputs": [
    {
     "name": "stderr",
     "output_type": "stream",
     "text": [
      "/home/bjit/Desktop/Storage01/SelfDevelopment/Rag_Course/.venv/lib/python3.12/site-packages/tqdm/auto.py:21: TqdmWarning: IProgress not found. Please update jupyter and ipywidgets. See https://ipywidgets.readthedocs.io/en/stable/user_install.html\n",
      "  from .autonotebook import tqdm as notebook_tqdm\n"
     ]
    },
    {
     "name": "stdout",
     "output_type": "stream",
     "text": [
      "✓ Gemini model initialized for reranking\n"
     ]
    }
   ],
   "source": [
    "from langchain_google_genai import GoogleGenerativeAIEmbeddings, ChatGoogleGenerativeAI\n",
    "\n",
    "# Initialize Google embeddings model for vector representation\n",
    "embedding_model = GoogleGenerativeAIEmbeddings(\n",
    "    model=\"models/gemini-embedding-001\", \n",
    "    google_api_key=GOOGLE_API_KEY\n",
    ")\n",
    "\n",
    "\n",
    "# Initialize Google's Gemini model for response generation\n",
    "llm = ChatGoogleGenerativeAI(\n",
    "    google_api_key=GOOGLE_API_KEY,\n",
    "    model=\"gemini-2.0-flash\",    # Latest fast Gemini model for quick reranking\n",
    "    temperature=0,               # Deterministic output for consistency in ranking\n",
    "    max_tokens=None,            # Use model default token limit\n",
    "    timeout=None,               # No timeout limit for ranking requests\n",
    "    max_retries=2,              # Retry failed requests twice\n",
    ")\n",
    "\n",
    "print(\"✓ Gemini model initialized for reranking\")"
   ]
  },
  {
   "cell_type": "code",
   "execution_count": 13,
   "id": "f162384f",
   "metadata": {},
   "outputs": [],
   "source": [
    "### Tavily Search Tool\n",
    "from langchain_community.tools.tavily_search import TavilySearchResults\n",
    "\n",
    "tavily = TavilySearchResults(api_key=TAVILY_API_KEY, n_results=5)"
   ]
  },
  {
   "cell_type": "code",
   "execution_count": 14,
   "id": "779c1c1d",
   "metadata": {},
   "outputs": [],
   "source": [
    "### Combine all the tools in the list\n",
    "\n",
    "tools=[arxiv,wiki,tavily]"
   ]
  },
  {
   "cell_type": "code",
   "execution_count": 15,
   "id": "9b476989",
   "metadata": {},
   "outputs": [],
   "source": [
    "\n",
    "llm_with_tools=llm.bind_tools(tools)"
   ]
  },
  {
   "cell_type": "code",
   "execution_count": 16,
   "id": "99a4be9b",
   "metadata": {},
   "outputs": [
    {
     "data": {
      "text/plain": [
       "AIMessage(content='', additional_kwargs={'function_call': {'name': 'tavily_search_results_json', 'arguments': '{\"query\": \"recent AI News\"}'}}, response_metadata={'prompt_feedback': {'block_reason': 0, 'safety_ratings': []}, 'finish_reason': 'STOP', 'safety_ratings': []}, id='run--7e7c0476-e6cd-4f2e-beb8-0be229395bbc-0', tool_calls=[{'name': 'tavily_search_results_json', 'args': {'query': 'recent AI News'}, 'id': '4a3229b1-fda0-4905-8253-3ea914d1b53f', 'type': 'tool_call'}], usage_metadata={'input_tokens': 163, 'output_tokens': 12, 'total_tokens': 175, 'input_token_details': {'cache_read': 0}})"
      ]
     },
     "execution_count": 16,
     "metadata": {},
     "output_type": "execute_result"
    }
   ],
   "source": [
    "from pprint import pprint\n",
    "from langchain_core.messages import AIMessage, HumanMessage\n",
    "llm_with_tools.invoke([HumanMessage(content=f\"What is the recent AI News\")])"
   ]
  },
  {
   "cell_type": "code",
   "execution_count": 17,
   "id": "a2ae470b",
   "metadata": {},
   "outputs": [
    {
     "data": {
      "text/plain": [
       "[{'name': 'tavily_search_results_json',\n",
       "  'args': {'query': 'recent AI News'},\n",
       "  'id': '5ed7f820-78a3-453e-b7b5-681120977c0f',\n",
       "  'type': 'tool_call'}]"
      ]
     },
     "execution_count": 17,
     "metadata": {},
     "output_type": "execute_result"
    }
   ],
   "source": [
    "llm_with_tools.invoke([HumanMessage(content=f\"What is the recent AI News\")]).tool_calls"
   ]
  },
  {
   "cell_type": "code",
   "execution_count": 18,
   "id": "ea170da6",
   "metadata": {},
   "outputs": [],
   "source": [
    "## State Schema\n",
    "from typing_extensions import TypedDict\n",
    "from langchain_core.messages import AnyMessage\n",
    "from typing import Annotated\n",
    "from langgraph.graph.message import add_messages\n",
    "class State(TypedDict):\n",
    "    messages:Annotated[list[AnyMessage],add_messages]"
   ]
  },
  {
   "cell_type": "code",
   "execution_count": 20,
   "id": "540bd373",
   "metadata": {},
   "outputs": [
    {
     "data": {
      "image/png": "[encoded data removed]",
      "text/plain": [
       "<IPython.core.display.Image object>"
      ]
     },
     "metadata": {},
     "output_type": "display_data"
    }
   ],
   "source": [
    "### Entire Chatbot With LangGraph\n",
    "from IPython.display import Image, display\n",
    "from langgraph.graph import StateGraph, START, END\n",
    "from langchain_core.runnables.graph import MermaidDrawMethod \n",
    "\n",
    "from langgraph.prebuilt import ToolNode\n",
    "from langgraph.prebuilt import tools_condition\n",
    "\n",
    "import nest_asyncio\n",
    "nest_asyncio.apply()\n",
    "\n",
    "### Node definition\n",
    "def tool_calling_llm(state:State):\n",
    "    return {\"messages\":[llm_with_tools.invoke(state[\"messages\"])]}\n",
    "\n",
    "# Build graph\n",
    "builder = StateGraph(State)\n",
    "builder.add_node(\"tool_calling_llm\", tool_calling_llm)\n",
    "builder.add_node(\"tools\", ToolNode(tools))\n",
    "\n",
    "builder.add_edge(START, \"tool_calling_llm\")\n",
    "builder.add_conditional_edges(\n",
    "    \"tool_calling_llm\",\n",
    "    # If the latest message (result) from assistant is a tool call -> tools_condition routes to tools\n",
    "    # If the latest message (result) from assistant is a not a tool call -> tools_condition routes to END\n",
    "    tools_condition,\n",
    ")\n",
    "builder.add_edge(\"tools\", END)\n",
    "\n",
    "\n",
    "graph = builder.compile()\n",
    "\n",
    "# View\n",
    "display(Image(graph.get_graph().draw_mermaid_png(draw_method=MermaidDrawMethod.PYPPETEER)))\n"
   ]
  },
  {
   "cell_type": "code",
   "execution_count": 21,
   "id": "3f8a193f",
   "metadata": {},
   "outputs": [
    {
     "name": "stdout",
     "output_type": "stream",
     "text": [
      "================================\u001b[1m Human Message \u001b[0m=================================\n",
      "\n",
      "1706.03762\n",
      "==================================\u001b[1m Ai Message \u001b[0m==================================\n",
      "\n",
      "Please provide the context or question related to the arXiv ID 1706.03762. I need to know what you want to find out about this paper. For example, are you interested in the title, abstract, authors, or a specific topic related to the paper?\n"
     ]
    }
   ],
   "source": [
    "messages=graph.invoke({\"messages\":HumanMessage(content=\"1706.03762\")})\n",
    "for m in messages['messages']:\n",
    "    m.pretty_print()"
   ]
  },
  {
   "cell_type": "code",
   "execution_count": 22,
   "id": "e9326a8b",
   "metadata": {},
   "outputs": [
    {
     "name": "stdout",
     "output_type": "stream",
     "text": [
      "================================\u001b[1m Human Message \u001b[0m=================================\n",
      "\n",
      "Provide me the top 10 recent AI news for MArch 3rd 2025\n",
      "==================================\u001b[1m Ai Message \u001b[0m==================================\n",
      "Tool Calls:\n",
      "  tavily_search_results_json (87f0b2dc-a61a-470d-b3e1-c17e3bf6d671)\n",
      " Call ID: 87f0b2dc-a61a-470d-b3e1-c17e3bf6d671\n",
      "  Args:\n",
      "    query: AI news March 3rd 2025\n",
      "=================================\u001b[1m Tool Message \u001b[0m=================================\n",
      "Name: tavily_search_results_json\n",
      "\n",
      "[{\"title\": \"Weekly AI News: 3 March 2025 - AIforBusiness.net - YouTube\", \"url\": \"https://www.youtube.com/watch?v=kw21NJ7YmZM\", \"content\": \"This week’s AI update explores some of the most impactful developments shaping technology and society. OpenAI has unveiled GPT-4.5, a cutting-edge model with enhanced intuition and emotional intelligence. While its capabilities push AI closer to human-like perception, its high computational demands raise concerns about accessibility, particularly for smaller businesses. [...] A thought-provoking analysis in the Daily Maverick questions AI’s growing influence, warning that biases within AI systems could shape decision-making in unpredictable ways. As AI becomes more embedded in hiring, finance, and governance, are we truly in control?\\nGoogle’s decision to ease restrictions on AI use for military and surveillance purposes has ignited debate over the ethical boundaries of AI deployment. Should corporations define these limits, or should governments step in? [...] together welcome to this week's AI update where we break down the biggest stories in artificial intelligence fast simple and straight to the point let's dive in more powerful but also more demanding open AI has just launched GPT 4.5 a major upgrade that brings improvements in intuition emotional intelligence and even aesthetic judgment this marks a shift towards AI that isn't just analytical but can also mimic humanlike perception however this advancement comes at a cost GPT 4.5 is more\", \"score\": 0.93338853}, {\"title\": \"AI on AI News 03-Mar-2025 - YouTube\", \"url\": \"https://www.youtube.com/watch?v=HcYSRH6hk5M\", \"content\": \"welcome to AI daily Deep dive your daily source for all things AI all things AI researched and generated entirely by AI it's Monday March 3rd 2025 wow we've got some juicy AI news to unpack today I know right seems like every week something major happens in the world of AI it really is a fascinating time to be following this field okay let's start with a bit of a head scratcher okay apple and their AI powered Siri yeah remember all those rumors about a major upgrade oh right yeah truly AI [...] AI continues its impressive progress by solving complex mathematical problems previously deemed impossible. Caltech researchers developed AI algorithms capable of tackling million-step math challenges, addressing related conjectures and disproving potential counterexamples in combinational mathematics. These algorithms could also detect rare impactful events, like natural disasters or financial crashes, by forecasting scenarios with precision. The findings hold promise for broader scientific [...] these algorithms could potentially help us predict rare high impact events like hurricanes or financial crashes events that have been notoriously difficult to forecast using traditional methods it's like having a crystal ball but powered by math AI this is getting wild it is it's truly remarkable how AI is expanding our capabilities yeah helping us understand the world in ways we never thought possible and it's not just about predicting the future right AI is also raising important questions\", \"score\": 0.9322132}, {\"title\": \"GPT 4.5 is out! — Weekly AI Newsletter (March 3rd 2025) - Medium\", \"url\": \"https://medium.com/nlplanet/gpt-4-5-is-out-weekly-ai-newsletter-march-3rd-2025-6b31dd83ca60\", \"content\": \"Sitemap\\n\\nOpen in app\\n\\nSign in\\n\\nSign in\\n\\nWriting is for everyone.Register for Medium Day\\n\\n## Generative AI\\n\\n·\\n\\nFollow publication\\n\\nExplanations of AI, machine learning, news, guides, courses, papers, and more.\\n\\nFollow publication\\n\\n# GPT 4.5 is out! — Weekly AI Newsletter (March 3rd 2025)\\n\\n## Anthropic releases Claude 3.7 Sonnet, OpenAI expands Deep Research for Plus users, and Google launches new code assistant\\n\\nFabio Chiusano\\n\\n5 min readMar 3, 2025\\n\\n## 😎 News From The Web [...] When AI Thinks It Will Lose, It Sometimes Cheats, Study Finds. The authors discovered that advanced AI models, like OpenAI’s o1-preview and DeepSeek R1, sometimes cheat by hacking opponents when losing, revealing troubling AI behavior patterns. These models exploit cybersecurity loopholes due to reinforcement learning techniques, indicating potential real-world ethical risks. [...] OpenAI releases ‘largest, most knowledgable’ model GPT-4.5 with reduced hallucinations and high API price. OpenAI unveiled GPT-4.5, its latest large language model, featuring reduced hallucinations and enhanced conversational abilities. Initially available to ChatGPT Pro users, GPT-4.5 emphasizes unsupervised learning for pattern recognition and creativity. Despite improvements, the model’s high API cost and varying performance compared to rivals raise questions about its value in competitive\", \"score\": 0.8976328}, {\"title\": \"AI Weekly Digest - March 3 2025 - LinkedIn\", \"url\": \"https://www.linkedin.com/pulse/ai-weekly-digest-march-3-2025-pa-media-ddmie\", \"content\": \"Mobile World Congress to be 'absolutely awash with AI'\\n\\nSTL Partners research director Amy Cameron said she expects this week's Mobile World Congress in Barcelona to be \\\"absolutely awash with AI\\\", adding: \\\"Within this I expect to hear a lot about activities supporting development of AI solutions for enterprise customers: Partnerships between telcos and lead AI tech platforms/players; Industry specific LLMs; Edge making a comeback with AI at the edge.”\\n\\nTo view or add a comment, sign in [...] Alibaba's Wan 2.1 now open source\\n\\nAlibaba has announced its video and image-generating AI model Wan 2.1 is now publicly available - or open source. Reports said the Chinese e-commerce leader's move was likely to increase its uptake and further intensify competition in AI. The move follows Chinese startup DeepSeek's market disrupting rollout of low-cost open-source models last month.\\n\\nLawsuit: Google AI Overviews 'eroding demand for original content' [...] New ChatGPT model 'dramatically reduces rate of hallucinations'\\n\\nOpenAI has launched GPT-4.5, an update to the model underpinning ChatGPT which it said dramatically reduces the rate of 'hallucinations', or inaccurate information generated in response to queries. It said the model is “at the frontier of what is possible in unsupervised learning”, and added that \\\"with every new order of magnitude of compute comes novel capabilities\\\".\", \"score\": 0.8834878}, {\"title\": \"March 2025: All AI updates from the past month - SD Times\", \"url\": \"https://sdtimes.com/ai/march-2025-all-ai-updates-from-the-past-month/\", \"content\": \"OpenAI is committing $50 million in research grants, compute funding, and API access to those organizations. \\n\\n“The field of AI wouldn’t be where it is today without decades of work in the academic community. Continued collaboration is essential to build AI that benefits everyone. NextGenAI will accelerate research progress and catalyze a new generation of institutions equipped to harness the transformative power of AI,” said Brad Lightcap, COO of OpenAI. [...] Claude will respond with direct citations of its web sources, allowing users to fact check the information.\\n\\nGoogle launches Canvas to enable easier collaboration with Gemini\\n\\nGoogle is making it easier for developers to collaborate with Gemini with the launch of Canvas, an interactive space to create and refine code. \\n\\nCanvas could be used to build reports, blog posts, study guides, visual timelines, interactive prototypes, code snippets, and more. [...] OpenAI is releasing new tools and APIs to help developers build agentic experiences. The Responses API allows developers to more easily integrate OpenAI’s tools into their own applications. \\n\\n“As model capabilities continue to evolve, we believe the Responses API will provide a more flexible foundation for developers building agentic applications. With a single Responses API call, developers will be able to solve increasingly complex tasks using multiple tools and model turns,” OpenAI wrote.\", \"score\": 0.8591094}]\n"
     ]
    }
   ],
   "source": [
    "messages=graph.invoke({\"messages\":HumanMessage(content=\"Provide me the top 10 recent AI news for MArch 3rd 2025\")})\n",
    "for m in messages['messages']:\n",
    "    m.pretty_print()"
   ]
  },
  {
   "cell_type": "code",
   "execution_count": 23,
   "id": "78e25d5c",
   "metadata": {},
   "outputs": [
    {
     "name": "stdout",
     "output_type": "stream",
     "text": [
      "================================\u001b[1m Human Message \u001b[0m=================================\n",
      "\n",
      "What is machine learning\n",
      "==================================\u001b[1m Ai Message \u001b[0m==================================\n",
      "Tool Calls:\n",
      "  wikipedia (15df62fa-f6fa-4d47-87d6-5cf5aa2c9e29)\n",
      " Call ID: 15df62fa-f6fa-4d47-87d6-5cf5aa2c9e29\n",
      "  Args:\n",
      "    query: machine learning\n",
      "=================================\u001b[1m Tool Message \u001b[0m=================================\n",
      "Name: wikipedia\n",
      "\n",
      "Page: Machine learning\n",
      "Summary: Machine learning (ML) is a field of study in artificial intelligence concerned with the development and study of statistical algorithms that can learn from data and generalise to unseen data, and thus perform tasks without explicit instructions. Within a subdiscipline in machine learning, advances in the field of deep learning have allowed neural networks, a class of statistical algorithms, to surpass many previous machine learning approaches in performance.\n",
      "ML fi\n"
     ]
    }
   ],
   "source": [
    "messages=graph.invoke({\"messages\":HumanMessage(content=\"What is machine learning\")})\n",
    "for m in messages['messages']:\n",
    "    m.pretty_print()"
   ]
  },
  {
   "cell_type": "code",
   "execution_count": 35,
   "id": "e05cfa07",
   "metadata": {},
   "outputs": [
    {
     "data": {
      "text/plain": [
       "ToolMessage(content='Page: Machine learning\\nSummary: Machine learning (ML) is a field of study in artificial intelligence concerned with the development and study of statistical algorithms that can learn from data and generalise to unseen data, and thus perform tasks without explicit instructions. Within a subdiscipline in machine learning, advances in the field of deep learning have allowed neural networks, a class of statistical algorithms, to surpass many previous machine learning approaches in performance.\\nML fi', name='wikipedia', id='db0789ab-3e5d-4d32-a8c7-b46a8ccdf89c', tool_call_id='15df62fa-f6fa-4d47-87d6-5cf5aa2c9e29')"
      ]
     },
     "execution_count": 35,
     "metadata": {},
     "output_type": "execute_result"
    }
   ],
   "source": [
    "messages['messages'][-1]"
   ]
  },
  {
   "cell_type": "code",
   "execution_count": 36,
   "id": "e90dbb7b",
   "metadata": {},
   "outputs": [
    {
     "data": {
      "text/plain": [
       "'Page: Machine learning\\nSummary: Machine learning (ML) is a field of study in artificial intelligence concerned with the development and study of statistical algorithms that can learn from data and generalise to unseen data, and thus perform tasks without explicit instructions. Within a subdiscipline in machine learning, advances in the field of deep learning have allowed neural networks, a class of statistical algorithms, to surpass many previous machine learning approaches in performance.\\nML fi'"
      ]
     },
     "execution_count": 36,
     "metadata": {},
     "output_type": "execute_result"
    }
   ],
   "source": [
    "messages['messages'][-1].content"
   ]
  },
  {
   "cell_type": "code",
   "execution_count": null,
   "id": "9698020f",
   "metadata": {},
   "outputs": [],
   "source": []
  }
 ],
 "metadata": {
  "kernelspec": {
   "display_name": "Rag_Course",
   "language": "python",
   "name": "python3"
  },
  "language_info": {
   "codemirror_mode": {
    "name": "ipython",
    "version": 3
   },
   "file_extension": ".py",
   "mimetype": "text/x-python",
   "name": "python",
   "nbconvert_exporter": "python",
   "pygments_lexer": "ipython3",
   "version": "3.12.3"
  }
 },
 "nbformat": 4,
 "nbformat_minor": 5
}
