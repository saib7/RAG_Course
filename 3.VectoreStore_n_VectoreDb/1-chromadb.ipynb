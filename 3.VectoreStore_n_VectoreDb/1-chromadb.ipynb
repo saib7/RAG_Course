{
 "cells": [
  {
   "cell_type": "markdown",
   "id": "08d6996d",
   "metadata": {},
   "source": [
    "# Building a RAG System with LangChain and ChromaDB\n",
    "\n",
    "## What is RAG?\n",
    "**Retrieval-Augmented Generation (RAG)** combines the power of large language models with external knowledge retrieval to provide accurate, contextual answers.\n",
    "\n",
    "## Key Components Used:\n",
    "- **LangChain**: Framework for building LLM applications with modular components\n",
    "- **ChromaDB**: Vector database for storing and searching document embeddings  \n",
    "- **Google Gemini**: For generating embeddings and language model responses\n",
    "\n",
    "## Why RAG?\n",
    "- ✅ Reduces AI hallucinations by grounding responses in real data\n",
    "- ✅ Provides up-to-date information beyond training data\n",
    "- ✅ Enables source citation and fact verification\n",
    "- ✅ Works with domain-specific knowledge bases"
   ]
  },
  {
   "cell_type": "code",
   "execution_count": null,
   "id": "80d3ca9a",
   "metadata": {},
   "outputs": [
    {
     "data": {
      "text/plain": [
       "True"
      ]
     },
     "execution_count": 1,
     "metadata": {},
     "output_type": "execute_result"
    }
   ],
   "source": [
    "\"\"\"\n",
    "Environment Setup\n",
    "Load environment variables containing API keys and configuration settings.\n",
    "\"\"\"\n",
    "import os\n",
    "from dotenv import load_dotenv\n",
    "load_dotenv()  # Loads variables from .env file into environment"
   ]
  },
  {
   "cell_type": "code",
   "execution_count": null,
   "id": "e3a27104",
   "metadata": {},
   "outputs": [
    {
     "name": "stderr",
     "output_type": "stream",
     "text": [
      "/home/bjit/Desktop/Storage01/SelfDevelopment/Rag_Course/.venv/lib/python3.12/site-packages/tqdm/auto.py:21: TqdmWarning: IProgress not found. Please update jupyter and ipywidgets. See https://ipywidgets.readthedocs.io/en/stable/user_install.html\n",
      "  from .autonotebook import tqdm as notebook_tqdm\n"
     ]
    }
   ],
   "source": [
    "\"\"\"\n",
    "Import Required Libraries\n",
    "\n",
    "LangChain Components:\n",
    "- RecursiveCharacterTextSplitter: Breaks large documents into smaller chunks intelligently\n",
    "- TextLoader: Reads text files and converts them to LangChain Document objects\n",
    "- GoogleGenerativeAIEmbeddings: Converts text to numerical vectors using Google's models\n",
    "- Document: Standard LangChain document format with content and metadata\n",
    "- Chroma: Vector database integration for storing and searching embeddings\n",
    "\"\"\"\n",
    "\n",
    "# Text processing and document handling\n",
    "from langchain.text_splitter import RecursiveCharacterTextSplitter\n",
    "from langchain_community.document_loaders import TextLoader\n",
    "from langchain_google_genai import GoogleGenerativeAIEmbeddings\n",
    "from langchain.schema import Document\n",
    "\n",
    "# Vector storage for embeddings\n",
    "from langchain_community.vectorstores import Chroma\n",
    "\n",
    "# Utility imports for data manipulation\n",
    "import numpy as np\n",
    "from typing import List"
   ]
  },
  {
   "cell_type": "code",
   "execution_count": null,
   "id": "c952510f",
   "metadata": {},
   "outputs": [
    {
     "name": "stdout",
     "output_type": "stream",
     "text": [
      "\n",
      "RAG (Retrieval-Augmented Generation) Architecture:\n",
      "\n",
      "1. Document Loading: Load documents from various sources\n",
      "2. Document Splitting: Break documents into smaller chunks\n",
      "3. Embedding Generation: Convert chunks into vector representations\n",
      "4. Vector Storage: Store embeddings in ChromaDB\n",
      "5. Query Processing: Convert user query to embedding\n",
      "6. Similarity Search: Find relevant chunks from vector store\n",
      "7. Context Augmentation: Combine retrieved chunks with query\n",
      "8. Response Generation: LLM generates answer using context\n",
      "\n",
      "Benefits of RAG:\n",
      "- Reduces hallucinations\n",
      "- Provides up-to-date information\n",
      "- Allows citing sources\n",
      "- Works with domain-specific knowledge\n",
      "\n"
     ]
    }
   ],
   "source": [
    "\"\"\"\n",
    "RAG System Architecture Overview\n",
    "\n",
    "This prints a comprehensive explanation of how our RAG system works step-by-step.\n",
    "\"\"\"\n",
    "print(\"\"\"\n",
    "RAG (Retrieval-Augmented Generation) Architecture:\n",
    "\n",
    "📄 1. Document Loading: Load documents from various sources\n",
    "✂️  2. Document Splitting: Break documents into smaller chunks\n",
    "🔢 3. Embedding Generation: Convert chunks into vector representations\n",
    "💾 4. Vector Storage: Store embeddings in ChromaDB\n",
    "🔍 5. Query Processing: Convert user query to embedding\n",
    "🎯 6. Similarity Search: Find relevant chunks from vector store\n",
    "🔗 7. Context Augmentation: Combine retrieved chunks with query\n",
    "🤖 8. Response Generation: LLM generates answer using context\n",
    "\n",
    "Benefits of RAG:\n",
    "- Reduces hallucinations\n",
    "- Provides up-to-date information\n",
    "- Allows citing sources\n",
    "- Works with domain-specific knowledge\n",
    "\"\"\")"
   ]
  },
  {
   "cell_type": "markdown",
   "id": "b48686d9",
   "metadata": {},
   "source": [
    "## 1. Sample Data Creation\n",
    "We'll create sample documents about AI/ML topics to demonstrate our RAG system."
   ]
  },
  {
   "cell_type": "code",
   "execution_count": null,
   "id": "8ccea3ff",
   "metadata": {},
   "outputs": [
    {
     "data": {
      "text/plain": [
       "['\\n    Machine Learning Fundamentals\\n\\n    Machine learning is a subset of artificial intelligence that enables systems to learn \\n    and improve from experience without being explicitly programmed. There are three main \\n    types of machine learning: supervised learning, unsupervised learning, and reinforcement \\n    learning. Supervised learning uses labeled data to train models, while unsupervised \\n    learning finds patterns in unlabeled data. Reinforcement learning learns through \\n    interaction with an environment using rewards and penalties.\\n    ',\n",
       " '\\n    Deep Learning and Neural Networks\\n\\n    Deep learning is a subset of machine learning based on artificial neural networks. \\n    These networks are inspired by the human brain and consist of layers of interconnected \\n    nodes. Deep learning has revolutionized fields like computer vision, natural language \\n    processing, and speech recognition. Convolutional Neural Networks (CNNs) are particularly \\n    effective for image processing, while Recurrent Neural Networks (RNNs) and Transformers \\n    excel at sequential data processing.\\n    ',\n",
       " '\\n    Natural Language Processing (NLP)\\n\\n    NLP is a field of AI that focuses on the interaction between computers and human language. \\n    Key tasks in NLP include text classification, named entity recognition, sentiment analysis, \\n    machine translation, and question answering. Modern NLP heavily relies on transformer \\n    architectures like BERT, GPT, and T5. These models use attention mechanisms to understand \\n    context and relationships between words in text.\\n    ']"
      ]
     },
     "execution_count": 4,
     "metadata": {},
     "output_type": "execute_result"
    }
   ],
   "source": [
    "\"\"\"\n",
    "Sample Documents for RAG Demo\n",
    "\n",
    "Creating three sample documents covering different AI/ML topics:\n",
    "1. Machine Learning Fundamentals\n",
    "2. Deep Learning and Neural Networks  \n",
    "3. Natural Language Processing (NLP)\n",
    "\n",
    "These will serve as our knowledge base for testing the RAG system.\n",
    "\"\"\"\n",
    "sample_docs = [\n",
    "    \"\"\"\n",
    "    Machine Learning Fundamentals\n",
    "    \n",
    "    Machine learning is a subset of artificial intelligence that enables systems to learn \n",
    "    and improve from experience without being explicitly programmed. There are three main \n",
    "    types of machine learning: supervised learning, unsupervised learning, and reinforcement \n",
    "    learning. Supervised learning uses labeled data to train models, while unsupervised \n",
    "    learning finds patterns in unlabeled data. Reinforcement learning learns through \n",
    "    interaction with an environment using rewards and penalties.\n",
    "    \"\"\",\n",
    "    \n",
    "    \"\"\"\n",
    "    Deep Learning and Neural Networks\n",
    "    \n",
    "    Deep learning is a subset of machine learning based on artificial neural networks. \n",
    "    These networks are inspired by the human brain and consist of layers of interconnected \n",
    "    nodes. Deep learning has revolutionized fields like computer vision, natural language \n",
    "    processing, and speech recognition. Convolutional Neural Networks (CNNs) are particularly \n",
    "    effective for image processing, while Recurrent Neural Networks (RNNs) and Transformers \n",
    "    excel at sequential data processing.\n",
    "    \"\"\",\n",
    "    \n",
    "    \"\"\"\n",
    "    Natural Language Processing (NLP)\n",
    "    \n",
    "    NLP is a field of AI that focuses on the interaction between computers and human language. \n",
    "    Key tasks in NLP include text classification, named entity recognition, sentiment analysis, \n",
    "    machine translation, and question answering. Modern NLP heavily relies on transformer \n",
    "    architectures like BERT, GPT, and T5. These models use attention mechanisms to understand \n",
    "    context and relationships between words in text.\n",
    "    \"\"\"\n",
    "]\n",
    "\n",
    "sample_docs"
   ]
  },
  {
   "cell_type": "code",
   "execution_count": null,
   "id": "711e2714",
   "metadata": {},
   "outputs": [
    {
     "name": "stdout",
     "output_type": "stream",
     "text": [
      "Sample document create in : /tmp/tmpp3_74czj\n"
     ]
    }
   ],
   "source": [
    "\"\"\"\n",
    "Save Sample Documents to Temporary Directory\n",
    "\n",
    "Creates a temporary directory and saves each sample document as a separate text file.\n",
    "This simulates having a collection of documents to process.\n",
    "\"\"\"\n",
    "import tempfile\n",
    "temp_dir = tempfile.mkdtemp()  # Creates a temporary directory\n",
    "\n",
    "# Save each document as a separate file\n",
    "for i, doc in enumerate(sample_docs):\n",
    "    with open(f\"{temp_dir}/doc_{i}.txt\", \"w\") as f:\n",
    "        f.write(doc)\n",
    "\n",
    "print(f\"Sample documents created in: {temp_dir}\")"
   ]
  },
  {
   "cell_type": "code",
   "execution_count": null,
   "id": "de87e4fa",
   "metadata": {},
   "outputs": [],
   "source": [
    "\"\"\"\n",
    "Alternative: Save Documents to Current Directory\n",
    "\n",
    "Creates document files in the current working directory for easier access.\n",
    "This approach doesn't use temporary directories.\n",
    "\"\"\"\n",
    "import tempfile\n",
    "temp_dir = tempfile.mkdtemp()\n",
    "\n",
    "# Save documents in current directory with simple naming\n",
    "for i, doc in enumerate(sample_docs):\n",
    "    with open(f\"doc_{i}.txt\", \"w\") as f:\n",
    "        f.write(doc)"
   ]
  },
  {
   "cell_type": "code",
   "execution_count": null,
   "id": "e2f1deba",
   "metadata": {},
   "outputs": [
    {
     "data": {
      "text/plain": [
       "'/tmp/tmp8za7zr7r'"
      ]
     },
     "execution_count": 7,
     "metadata": {},
     "output_type": "execute_result"
    }
   ],
   "source": [
    "# Display the temporary directory path for reference\n",
    "temp_dir"
   ]
  },
  {
   "cell_type": "markdown",
   "id": "c5f0d4b4",
   "metadata": {},
   "source": [
    "## 2. Document Loading\n",
    "Loading documents from files and converting them into LangChain Document objects that can be processed by our RAG system."
   ]
  },
  {
   "cell_type": "code",
   "execution_count": null,
   "id": "61ae8106",
   "metadata": {},
   "outputs": [
    {
     "name": "stdout",
     "output_type": "stream",
     "text": [
      "Loaded 3 documents\n",
      "\n",
      "First document preview:\n",
      "\n",
      "    Natural Language Processing (NLP)\n",
      "\n",
      "    NLP is a field of AI that focuses on the interaction between computers and human language. \n",
      "    Key tasks in NLP include text classification, named entity r...\n"
     ]
    }
   ],
   "source": [
    "\"\"\"\n",
    "Load Documents from Directory\n",
    "\n",
    "DirectoryLoader: Loads all files matching a pattern from a directory\n",
    "- glob=\"*.txt\": Only load .txt files\n",
    "- loader_cls=TextLoader: Use TextLoader for each file\n",
    "- encoding='utf-8': Handle text encoding properly\n",
    "\n",
    "Each loaded document becomes a Document object with content and metadata.\n",
    "\"\"\"\n",
    "from langchain_community.document_loaders import DirectoryLoader, TextLoader\n",
    "\n",
    "# Load all text files from the data directory\n",
    "loader = DirectoryLoader(\n",
    "    \"data\",  # Directory containing our documents\n",
    "    glob=\"*.txt\",  # Pattern to match text files only\n",
    "    loader_cls=TextLoader,  # Use TextLoader for each file\n",
    "    loader_kwargs={'encoding': 'utf-8'}  # Ensure proper text encoding\n",
    ")\n",
    "documents = loader.load()\n",
    "\n",
    "print(f\"Loaded {len(documents)} documents\")\n",
    "print(f\"\\nFirst document preview:\")\n",
    "print(documents[0].page_content[:200] + \"...\")  # Show first 200 characters"
   ]
  },
  {
   "cell_type": "code",
   "execution_count": null,
   "id": "152dcf01",
   "metadata": {},
   "outputs": [
    {
     "data": {
      "text/plain": [
       "[Document(metadata={'source': 'data/doc_2.txt'}, page_content='\\n    Natural Language Processing (NLP)\\n\\n    NLP is a field of AI that focuses on the interaction between computers and human language. \\n    Key tasks in NLP include text classification, named entity recognition, sentiment analysis, \\n    machine translation, and question answering. Modern NLP heavily relies on transformer \\n    architectures like BERT, GPT, and T5. These models use attention mechanisms to understand \\n    context and relationships between words in text.\\n    '),\n",
       " Document(metadata={'source': 'data/doc_0.txt'}, page_content='\\n    Machine Learning Fundamentals\\n\\n    Machine learning is a subset of artificial intelligence that enables systems to learn \\n    and improve from experience without being explicitly programmed. There are three main \\n    types of machine learning: supervised learning, unsupervised learning, and reinforcement \\n    learning. Supervised learning uses labeled data to train models, while unsupervised \\n    learning finds patterns in unlabeled data. Reinforcement learning learns through \\n    interaction with an environment using rewards and penalties.\\n    '),\n",
       " Document(metadata={'source': 'data/doc_1.txt'}, page_content='\\n    Deep Learning and Neural Networks\\n\\n    Deep learning is a subset of machine learning based on artificial neural networks. \\n    These networks are inspired by the human brain and consist of layers of interconnected \\n    nodes. Deep learning has revolutionized fields like computer vision, natural language \\n    processing, and speech recognition. Convolutional Neural Networks (CNNs) are particularly \\n    effective for image processing, while Recurrent Neural Networks (RNNs) and Transformers \\n    excel at sequential data processing.\\n    ')]"
      ]
     },
     "execution_count": 12,
     "metadata": {},
     "output_type": "execute_result"
    }
   ],
   "source": [
    "# Display the loaded documents structure\n",
    "documents"
   ]
  },
  {
   "cell_type": "markdown",
   "id": "bd61fd4e",
   "metadata": {},
   "source": [
    "## 3. Document Splitting\n",
    "Breaking large documents into smaller, manageable chunks that fit within model context windows and improve retrieval accuracy."
   ]
  },
  {
   "cell_type": "code",
   "execution_count": null,
   "id": "78b370f1",
   "metadata": {},
   "outputs": [
    {
     "name": "stdout",
     "output_type": "stream",
     "text": [
      "Created 5 chunks from 3 documents\n",
      "\n",
      "Chunk example:\n",
      "Content: Natural Language Processing (NLP)\n",
      "\n",
      "    NLP is a field of AI that focuses on the interaction between computers and human language. \n",
      "    Key tasks in NL...\n",
      "Metadata: {'source': 'data/doc_2.txt'}\n"
     ]
    }
   ],
   "source": [
    "\"\"\"\n",
    "Split Documents into Chunks\n",
    "\n",
    "RecursiveCharacterTextSplitter intelligently breaks documents:\n",
    "- chunk_size=500: Maximum characters per chunk\n",
    "- chunk_overlap=50: Characters shared between adjacent chunks (maintains context)\n",
    "- length_function=len: How to measure chunk size\n",
    "- separators=[\" \"]: Split on spaces first, then other separators\n",
    "\n",
    "Overlap is crucial: it ensures important information isn't lost at chunk boundaries.\n",
    "\"\"\"\n",
    "# Initialize the text splitter with optimal parameters\n",
    "text_splitter = RecursiveCharacterTextSplitter(\n",
    "    chunk_size=500,  # Maximum size of each chunk\n",
    "    chunk_overlap=50,  # Overlap between chunks to maintain context\n",
    "    length_function=len,  # Use character count for measuring size\n",
    "    separators=[\" \"]  # Hierarchy of separators (space first)\n",
    ")\n",
    "\n",
    "# Split all documents into chunks\n",
    "chunks = text_splitter.split_documents(documents)\n",
    "\n",
    "print(f\"Created {len(chunks)} chunks from {len(documents)} documents\")\n",
    "print(f\"\\nChunk example:\")\n",
    "print(f\"Content: {chunks[0].page_content[:150]}...\")\n",
    "print(f\"Metadata: {chunks[0].metadata}\")"
   ]
  },
  {
   "cell_type": "code",
   "execution_count": null,
   "id": "91e73a4e",
   "metadata": {},
   "outputs": [
    {
     "data": {
      "text/plain": [
       "[Document(metadata={'source': 'data/doc_2.txt'}, page_content='Natural Language Processing (NLP)\\n\\n    NLP is a field of AI that focuses on the interaction between computers and human language. \\n    Key tasks in NLP include text classification, named entity recognition, sentiment analysis, \\n    machine translation, and question answering. Modern NLP heavily relies on transformer \\n    architectures like BERT, GPT, and T5. These models use attention mechanisms to understand \\n    context and relationships between words in text.'),\n",
       " Document(metadata={'source': 'data/doc_0.txt'}, page_content='Machine Learning Fundamentals\\n\\n    Machine learning is a subset of artificial intelligence that enables systems to learn \\n    and improve from experience without being explicitly programmed. There are three main \\n    types of machine learning: supervised learning, unsupervised learning, and reinforcement \\n    learning. Supervised learning uses labeled data to train models, while unsupervised \\n    learning finds patterns in unlabeled data. Reinforcement learning learns through'),\n",
       " Document(metadata={'source': 'data/doc_0.txt'}, page_content='data. Reinforcement learning learns through \\n    interaction with an environment using rewards and penalties.'),\n",
       " Document(metadata={'source': 'data/doc_1.txt'}, page_content='Deep Learning and Neural Networks\\n\\n    Deep learning is a subset of machine learning based on artificial neural networks. \\n    These networks are inspired by the human brain and consist of layers of interconnected \\n    nodes. Deep learning has revolutionized fields like computer vision, natural language \\n    processing, and speech recognition. Convolutional Neural Networks (CNNs) are particularly \\n    effective for image processing, while Recurrent Neural Networks (RNNs) and Transformers'),\n",
       " Document(metadata={'source': 'data/doc_1.txt'}, page_content='Neural Networks (RNNs) and Transformers \\n    excel at sequential data processing.')]"
      ]
     },
     "execution_count": 14,
     "metadata": {},
     "output_type": "execute_result"
    }
   ],
   "source": [
    "# Display the chunks structure\n",
    "chunks"
   ]
  },
  {
   "cell_type": "code",
   "execution_count": null,
   "id": "8646ffbb",
   "metadata": {},
   "outputs": [],
   "source": [
    "\"\"\"\n",
    "Set up Google API Key for Embeddings\n",
    "\n",
    "Google Generative AI requires authentication via API key.\n",
    "The key should be stored in environment variables for security.\n",
    "\"\"\"\n",
    "os.environ[\"GOOGLE_API_KEY\"] = os.getenv(\"GOOGLE_API_KEY\")"
   ]
  },
  {
   "cell_type": "code",
   "execution_count": null,
   "id": "4b8f2ddf",
   "metadata": {},
   "outputs": [
    {
     "data": {
      "text/plain": [
       "GoogleGenerativeAIEmbeddings(client=<google.ai.generativelanguage_v1beta.services.generative_service.client.GenerativeServiceClient object at 0x7f17025c99d0>, model='models/gemini-embedding-001', task_type=None, google_api_key=SecretStr('**********'), credentials=None, client_options=None, transport=None, request_options=None)"
      ]
     },
     "execution_count": 17,
     "metadata": {},
     "output_type": "execute_result"
    }
   ],
   "source": [
    "\"\"\"\n",
    "Initialize Google Embeddings Model\n",
    "\n",
    "GoogleGenerativeAIEmbeddings converts text to numerical vectors:\n",
    "- model=\"models/gemini-embedding-001\": Specific Google embedding model\n",
    "- These vectors capture semantic meaning of text\n",
    "- Similar texts have similar vector representations\n",
    "\"\"\"\n",
    "sample_text = \"Machine Learning is fascinating\"\n",
    "embeddings = GoogleGenerativeAIEmbeddings(model=\"models/gemini-embedding-001\")\n",
    "embeddings"
   ]
  },
  {
   "cell_type": "code",
   "execution_count": null,
   "id": "afacfda7",
   "metadata": {},
   "outputs": [
    {
     "data": {
      "text/plain": [
       "[-0.010484361089766026,\n",
       " 0.032966647297143936,\n",
       " 0.01858656480908394,\n",
       " -0.07652363926172256,\n",
       " -0.011906582862138748,\n",
       " 0.004588339943438768,\n",
       " 0.012288067489862442,\n",
       " 0.033216264098882675,\n",
       " -0.016090691089630127,\n",
       " -0.00437378091737628,\n",
       " 0.013594836927950382,\n",
       " -0.010538428090512753,\n",
       " 0.015617091208696365,\n",
       " 0.02469649910926819,\n",
       " 0.12497039139270782,\n",
       " 0.00884399376809597,\n",
       " -0.020016567781567574,\n",
       " -0.020702868700027466,\n",
       " -0.0031074886210262775,\n",
       " -0.01656494289636612,\n",
       " -0.0025832359679043293,\n",
       " 0.003024312201887369,\n",
       " 0.02058418095111847,\n",
       " -0.016372574493288994,\n",
       " -0.015559299848973751,\n",
       " -0.015602415427565575,\n",
       " 0.05185103788971901,\n",
       " 0.004539222456514835,\n",
       " 0.018151642754673958,\n",
       " -0.006498632952570915,\n",
       " 0.009674380533397198,\n",
       " 0.030054643750190735,\n",
       " 0.01871102675795555,\n",
       " 0.020886773243546486,\n",
       " -0.01419147476553917,\n",
       " 0.018303807824850082,\n",
       " 0.017977919429540634,\n",
       " 0.0021986868232488632,\n",
       " 0.008418558165431023,\n",
       " 0.014707104302942753,\n",
       " 0.012362045235931873,\n",
       " 0.002350432798266411,\n",
       " 0.012088296934962273,\n",
       " -0.02195170149207115,\n",
       " 0.003009186126291752,\n",
       " -0.01202446036040783,\n",
       " -0.0061744991689920425,\n",
       " -0.03379099816083908,\n",
       " -0.0159757062792778,\n",
       " -0.004665214102715254,\n",
       " -0.00734197162091732,\n",
       " -0.00046776316594332457,\n",
       " -0.016045555472373962,\n",
       " -0.15685684978961945,\n",
       " 0.033371757715940475,\n",
       " -0.00032188667682930827,\n",
       " -0.02621394582092762,\n",
       " 0.004461882170289755,\n",
       " 0.021260160952806473,\n",
       " 5.194314508116804e-05,\n",
       " -0.010589341633021832,\n",
       " 0.002010780619457364,\n",
       " -0.014571539126336575,\n",
       " -0.02397051267325878,\n",
       " -0.0023431216832250357,\n",
       " -0.035799745470285416,\n",
       " 0.013268835842609406,\n",
       " -0.0021647969260811806,\n",
       " -0.017863547429442406,\n",
       " -0.006845343392342329,\n",
       " 0.0047796741127967834,\n",
       " 0.027156280353665352,\n",
       " 0.013087962754070759,\n",
       " -0.0019786341581493616,\n",
       " -0.006285529118031263,\n",
       " 0.004376542288810015,\n",
       " 0.004554361570626497,\n",
       " -0.011064867489039898,\n",
       " 0.006568157114088535,\n",
       " 0.0432688370347023,\n",
       " 0.007841553539037704,\n",
       " 0.013356306590139866,\n",
       " 0.0001805924839572981,\n",
       " -0.01822381280362606,\n",
       " -0.023471666499972343,\n",
       " 0.003046073019504547,\n",
       " 0.002633525989949703,\n",
       " 0.015807941555976868,\n",
       " 0.014415538869798183,\n",
       " 0.0076081110164523125,\n",
       " 0.0179034061729908,\n",
       " 0.009757144376635551,\n",
       " 0.015107386745512486,\n",
       " -0.0011990928323939443,\n",
       " -0.049767881631851196,\n",
       " -0.01480035949498415,\n",
       " 0.003174989251419902,\n",
       " -0.0003186571702826768,\n",
       " 0.005606328137218952,\n",
       " -0.028748638927936554,\n",
       " 0.018723249435424805,\n",
       " -0.021329879760742188,\n",
       " 0.012843950651586056,\n",
       " -0.032831016927957535,\n",
       " 0.0011464976705610752,\n",
       " -0.0046276189386844635,\n",
       " -0.0021875465754419565,\n",
       " -0.010071528144180775,\n",
       " -0.014886955730617046,\n",
       " 0.02281983196735382,\n",
       " 0.0023472134489566088,\n",
       " -0.0009986805962398648,\n",
       " 0.007855523377656937,\n",
       " -0.009680514223873615,\n",
       " 0.0062971338629722595,\n",
       " -0.15755972266197205,\n",
       " -0.006141064688563347,\n",
       " 0.009935744106769562,\n",
       " -0.008770099841058254,\n",
       " -0.015345745719969273,\n",
       " 0.014667664654552937,\n",
       " 0.005565103143453598,\n",
       " -0.0004128645232412964,\n",
       " 0.027479253709316254,\n",
       " -0.01372563000768423,\n",
       " -0.009650611318647861,\n",
       " 0.004534744191914797,\n",
       " 0.0024150738026946783,\n",
       " -0.0021057864651083946,\n",
       " -0.02207050658762455,\n",
       " -0.001363351009786129,\n",
       " 0.01412946730852127,\n",
       " 0.002521029906347394,\n",
       " -0.0034309253096580505,\n",
       " -0.001421885914169252,\n",
       " 0.006228206213563681,\n",
       " -0.015488610602915287,\n",
       " -0.018296781927347183,\n",
       " 0.013710041530430317,\n",
       " -0.009257500059902668,\n",
       " -0.0066618239507079124,\n",
       " 0.014856343157589436,\n",
       " 0.0059190853498876095,\n",
       " 0.02564828097820282,\n",
       " -0.0009210508433170617,\n",
       " 0.006282211281359196,\n",
       " -0.022088855504989624,\n",
       " 0.023123785853385925,\n",
       " 0.006670481059700251,\n",
       " -0.021890100091695786,\n",
       " 0.0064764488488435745,\n",
       " -0.007693432737141848,\n",
       " -0.01175501849502325,\n",
       " -0.018180659040808678,\n",
       " -0.005461801774799824,\n",
       " -0.03480619937181473,\n",
       " -0.012575821951031685,\n",
       " -0.016025623306632042,\n",
       " 0.005256429314613342,\n",
       " 0.012963925488293171,\n",
       " -0.005167953670024872,\n",
       " -0.03077571839094162,\n",
       " -0.002671976340934634,\n",
       " 0.010767113417387009,\n",
       " -0.002596108242869377,\n",
       " -0.009081441909074783,\n",
       " -0.031332772225141525,\n",
       " 0.0019074452575296164,\n",
       " 0.004351892974227667,\n",
       " 0.01462577749043703,\n",
       " -0.002275332110002637,\n",
       " 0.008054066449403763,\n",
       " -0.02102641388773918,\n",
       " 0.005895104259252548,\n",
       " -0.014383349567651749,\n",
       " -0.024211980402469635,\n",
       " -0.0054740337654948235,\n",
       " -0.0024001491256058216,\n",
       " 0.0012487635249271989,\n",
       " -0.031838081777095795,\n",
       " 0.008191857486963272,\n",
       " 0.01481997687369585,\n",
       " 0.011738340370357037,\n",
       " -0.006253846455365419,\n",
       " -0.0006878791609779,\n",
       " -0.005053674802184105,\n",
       " 0.0026507144793868065,\n",
       " 0.02698269486427307,\n",
       " 0.011116371490061283,\n",
       " 0.003457718063145876,\n",
       " 0.013473176397383213,\n",
       " -0.0117533253505826,\n",
       " -0.006542528979480267,\n",
       " 0.006181509234011173,\n",
       " 0.006501224357634783,\n",
       " -0.006276403553783894,\n",
       " 0.013732324354350567,\n",
       " -0.00601589772850275,\n",
       " 0.0012709569418802857,\n",
       " -0.012915532104671001,\n",
       " 0.010361716151237488,\n",
       " 8.646576316095889e-05,\n",
       " 0.009658120572566986,\n",
       " -0.001967598916962743,\n",
       " 0.013636821880936623,\n",
       " -0.0005968500045128167,\n",
       " -0.03126993775367737,\n",
       " -0.013924919068813324,\n",
       " -0.007113912142813206,\n",
       " 0.021246928721666336,\n",
       " 0.012370693497359753,\n",
       " 0.021436205133795738,\n",
       " 0.0005410799058154225,\n",
       " -0.020721187815070152,\n",
       " 0.009559305384755135,\n",
       " 0.011834334582090378,\n",
       " -0.0038023830857127905,\n",
       " -0.0026478408835828304,\n",
       " -0.002850049175322056,\n",
       " 0.002268946962431073,\n",
       " 0.02993708848953247,\n",
       " 0.005245979875326157,\n",
       " 0.008342978544533253,\n",
       " 0.0005366789409890771,\n",
       " 3.6465968150878325e-05,\n",
       " -0.035032983869314194,\n",
       " -0.009683219715952873,\n",
       " -0.013708504848182201,\n",
       " -0.01652933843433857,\n",
       " -0.003073104890063405,\n",
       " -0.01756109483540058,\n",
       " 0.009157106280326843,\n",
       " -0.010927720926702023,\n",
       " 0.005086107179522514,\n",
       " 0.006210306193679571,\n",
       " 0.011097746901214123,\n",
       " -0.01609545387327671,\n",
       " 0.00722466828301549,\n",
       " 0.01009686104953289,\n",
       " -0.003784570610150695,\n",
       " -0.013027522712945938,\n",
       " -0.025366883724927902,\n",
       " 0.0020824915263801813,\n",
       " 0.026392729952931404,\n",
       " 0.020123492926359177,\n",
       " -0.0030214348807930946,\n",
       " 0.014582262374460697,\n",
       " -8.720367623027414e-05,\n",
       " 0.029681434854865074,\n",
       " 0.011579081416130066,\n",
       " 0.0020571935456246138,\n",
       " -0.002581329783424735,\n",
       " 0.01350597944110632,\n",
       " -0.007622953969985247,\n",
       " 0.002779170637950301,\n",
       " -0.009234722703695297,\n",
       " -0.015335679054260254,\n",
       " 0.005472214426845312,\n",
       " 0.009290226735174656,\n",
       " -0.0018833100330084562,\n",
       " 0.011592181399464607,\n",
       " -0.010551859624683857,\n",
       " -0.007639835588634014,\n",
       " -0.015680160373449326,\n",
       " 0.02313302271068096,\n",
       " -0.0007139239460229874,\n",
       " 0.021008672192692757,\n",
       " -0.007802880369126797,\n",
       " 0.010497628711163998,\n",
       " -0.0017740576295182109,\n",
       " -0.01634528860449791,\n",
       " 0.0004220107803121209,\n",
       " -0.011567617766559124,\n",
       " 0.00510442815721035,\n",
       " 0.0093377148732543,\n",
       " 0.02077438496053219,\n",
       " -0.09817862510681152,\n",
       " 0.031347643584012985,\n",
       " 0.003586612641811371,\n",
       " -0.007862800732254982,\n",
       " 0.0014742366038262844,\n",
       " 0.016177644953131676,\n",
       " 0.017955783754587173,\n",
       " 0.04266192391514778,\n",
       " -0.014642738737165928,\n",
       " 0.023821890354156494,\n",
       " -0.04090196266770363,\n",
       " -0.004090522415935993,\n",
       " 0.0023437964264303446,\n",
       " -0.028357775881886482,\n",
       " 0.023113667964935303,\n",
       " 0.0035027426201850176,\n",
       " -0.009814880788326263,\n",
       " 0.017297931015491486,\n",
       " 0.013494440354406834,\n",
       " 0.00992029532790184,\n",
       " 0.023549092933535576,\n",
       " -0.02992481365799904,\n",
       " 0.004951560404151678,\n",
       " 0.026794707402586937,\n",
       " -0.02446890063583851,\n",
       " -0.03074946068227291,\n",
       " 0.009642919525504112,\n",
       " 0.04131210967898369,\n",
       " -0.0019087224500253797,\n",
       " 0.011824010871350765,\n",
       " -0.0037655122578144073,\n",
       " -0.001606983132660389,\n",
       " 0.007951191626489162,\n",
       " 0.005243874154984951,\n",
       " 0.01911669783294201,\n",
       " -0.011348730884492397,\n",
       " -0.02407020516693592,\n",
       " -0.01032866071909666,\n",
       " -0.0035235562827438116,\n",
       " -0.014292843639850616,\n",
       " 0.01594356819987297,\n",
       " -0.0067466627806425095,\n",
       " 0.008067302405834198,\n",
       " 0.011244245804846287,\n",
       " 0.003705417038872838,\n",
       " -0.0004924802342429757,\n",
       " -0.002266984898597002,\n",
       " 0.002763207070529461,\n",
       " -0.022856086492538452,\n",
       " 0.012441033497452736,\n",
       " -0.014768876135349274,\n",
       " 0.007141765207052231,\n",
       " 0.018298234790563583,\n",
       " -0.02275470830500126,\n",
       " -0.0020423661917448044,\n",
       " -0.02337532490491867,\n",
       " 0.02464302070438862,\n",
       " -0.017087001353502274,\n",
       " -0.0037588393315672874,\n",
       " 0.0015607894165441394,\n",
       " 0.021758314222097397,\n",
       " 0.021390609443187714,\n",
       " 0.004074708558619022,\n",
       " -0.005128661170601845,\n",
       " -0.0013697630492970347,\n",
       " -0.015110338106751442,\n",
       " -0.005665006581693888,\n",
       " -0.0020221963059157133,\n",
       " 0.00019705711747519672,\n",
       " 0.002217680448666215,\n",
       " -0.005226830951869488,\n",
       " 0.0011646744096651673,\n",
       " -0.004692641086876392,\n",
       " -0.02659403719007969,\n",
       " 0.022742558270692825,\n",
       " 0.013091552071273327,\n",
       " -0.002939858241006732,\n",
       " -0.015031266026198864,\n",
       " -0.019388988614082336,\n",
       " 0.009494985453784466,\n",
       " 0.01706819050014019,\n",
       " 0.012159762904047966,\n",
       " -0.005243972409516573,\n",
       " 0.0028313263319432735,\n",
       " 0.012545058503746986,\n",
       " -0.0055211614817380905,\n",
       " 0.0011482109548524022,\n",
       " -0.011603455990552902,\n",
       " 0.009933171793818474,\n",
       " -0.02859235741198063,\n",
       " 0.02922508493065834,\n",
       " 0.012593545019626617,\n",
       " -0.010711622424423695,\n",
       " 0.00956213753670454,\n",
       " 0.012474732473492622,\n",
       " -0.04099864140152931,\n",
       " 0.013676582835614681,\n",
       " 0.005680206697434187,\n",
       " 0.01969212107360363,\n",
       " -0.012074004858732224,\n",
       " -0.004850666970014572,\n",
       " -0.015099479816854,\n",
       " -0.022371523082256317,\n",
       " -0.0007089521386660635,\n",
       " -0.009702898561954498,\n",
       " 0.029739679768681526,\n",
       " 0.01388444472104311,\n",
       " -0.010673629119992256,\n",
       " 0.010829553939402103,\n",
       " -0.0195735152810812,\n",
       " 0.019233476370573044,\n",
       " -0.01676676608622074,\n",
       " -0.018882684409618378,\n",
       " 0.007605000399053097,\n",
       " 0.018831143155694008,\n",
       " 0.017467336729168892,\n",
       " 0.0002178829745389521,\n",
       " 0.003607975086197257,\n",
       " -0.0022807996720075607,\n",
       " 0.014899025671184063,\n",
       " 0.01604577712714672,\n",
       " -0.013874383643269539,\n",
       " -0.025600451976060867,\n",
       " 0.00048064772272482514,\n",
       " 0.0073817456141114235,\n",
       " 0.0032095720525830984,\n",
       " 0.00794045440852642,\n",
       " 0.0004402303311508149,\n",
       " 0.005201099440455437,\n",
       " -0.0062453849241137505,\n",
       " -0.009672319516539574,\n",
       " -0.005901444237679243,\n",
       " -0.02288096584379673,\n",
       " 0.007873729802668095,\n",
       " -0.014630818739533424,\n",
       " 0.005221410188823938,\n",
       " 0.027375174686312675,\n",
       " 0.013778246007859707,\n",
       " 0.0010767974890768528,\n",
       " -0.018174946308135986,\n",
       " -0.03718281537294388,\n",
       " -0.0012432924704626203,\n",
       " 0.0410720631480217,\n",
       " -0.008988440968096256,\n",
       " -0.012423877604305744,\n",
       " 0.032826073467731476,\n",
       " 0.0014243227196857333,\n",
       " -0.0023606105241924524,\n",
       " 0.012963907793164253,\n",
       " -0.04033193364739418,\n",
       " -0.019042152911424637,\n",
       " -0.0315062589943409,\n",
       " -0.005225596018135548,\n",
       " 0.023649755865335464,\n",
       " -0.0027210579719394445,\n",
       " 0.0089454036206007,\n",
       " -0.02682388387620449,\n",
       " -0.01407876331359148,\n",
       " -0.029470497742295265,\n",
       " -0.026692718267440796,\n",
       " 0.01084893848747015,\n",
       " 0.021430766209959984,\n",
       " -0.018784532323479652,\n",
       " 0.003301531309261918,\n",
       " 0.025015586987137794,\n",
       " -0.014948812313377857,\n",
       " 0.030278991907835007,\n",
       " 0.023144075646996498,\n",
       " -0.0046270377933979034,\n",
       " 0.0060139247216284275,\n",
       " 0.006405461113899946,\n",
       " 0.007770148105919361,\n",
       " -0.011245518922805786,\n",
       " 0.00012332588084973395,\n",
       " 0.0018486652988940477,\n",
       " 0.0217214897274971,\n",
       " 0.011545440182089806,\n",
       " -0.02768510952591896,\n",
       " -0.0008566040196456015,\n",
       " -0.01814369484782219,\n",
       " -0.012787440791726112,\n",
       " 0.018812129274010658,\n",
       " 0.006949032656848431,\n",
       " -0.011260251514613628,\n",
       " -0.015616445802152157,\n",
       " -0.005920086987316608,\n",
       " -0.017724575474858284,\n",
       " -0.020549921318888664,\n",
       " -0.015320437960326672,\n",
       " -0.014754989184439182,\n",
       " 0.024946728721261024,\n",
       " -0.01885230652987957,\n",
       " 0.02718547359108925,\n",
       " -0.019823279231786728,\n",
       " -0.02984047308564186,\n",
       " 0.007617739494889975,\n",
       " -0.00010440223559271544,\n",
       " 0.02127980999648571,\n",
       " -0.0028787862975150347,\n",
       " -0.016167253255844116,\n",
       " 0.027881218120455742,\n",
       " 0.001016903668642044,\n",
       " 0.015155034139752388,\n",
       " 0.013813789002597332,\n",
       " 0.004096439108252525,\n",
       " -0.018312601372599602,\n",
       " 0.04018291085958481,\n",
       " 0.008496436290442944,\n",
       " 0.01563994027674198,\n",
       " -0.0018817703239619732,\n",
       " -0.026530761271715164,\n",
       " -0.017824525013566017,\n",
       " -0.015518059022724628,\n",
       " 0.01956603117287159,\n",
       " 0.030119728296995163,\n",
       " 0.026481367647647858,\n",
       " -0.0009176030289381742,\n",
       " 0.02083076536655426,\n",
       " -0.0021124351769685745,\n",
       " -0.03166370093822479,\n",
       " -0.0015571073163300753,\n",
       " -0.009421869181096554,\n",
       " -0.010344920679926872,\n",
       " -0.013152056373655796,\n",
       " -0.026691317558288574,\n",
       " 0.004085411783307791,\n",
       " 0.027371486648917198,\n",
       " 0.027013102546334267,\n",
       " 0.012411307543516159,\n",
       " 0.003845860483124852,\n",
       " 0.0007812038529664278,\n",
       " -0.01265088189393282,\n",
       " 0.013005604036152363,\n",
       " 0.009224950335919857,\n",
       " 0.0006566771189682186,\n",
       " 0.0052107288502156734,\n",
       " 0.0028401962481439114,\n",
       " 0.013243555091321468,\n",
       " 0.001867425162345171,\n",
       " 0.011237655766308308,\n",
       " -0.012512268498539925,\n",
       " -0.0011022076942026615,\n",
       " 0.012170221656560898,\n",
       " -0.003061643335968256,\n",
       " 0.016293227672576904,\n",
       " -0.005177859216928482,\n",
       " 0.01204443909227848,\n",
       " 0.011945657432079315,\n",
       " 0.00044541887473315,\n",
       " 0.0035683750174939632,\n",
       " 0.014545506797730923,\n",
       " 0.02969430573284626,\n",
       " 0.024879591539502144,\n",
       " 0.009455708786845207,\n",
       " 0.01878395676612854,\n",
       " 0.03569616377353668,\n",
       " -0.014940295368432999,\n",
       " 0.0015178333269432187,\n",
       " 0.017398782074451447,\n",
       " 0.00852855946868658,\n",
       " 0.020793192088603973,\n",
       " -0.019322864711284637,\n",
       " 0.021030211821198463,\n",
       " 0.023899491876363754,\n",
       " 0.023816021159291267,\n",
       " -0.00019699265249073505,\n",
       " -0.01413850486278534,\n",
       " -0.029300231486558914,\n",
       " 0.009345831349492073,\n",
       " -0.11010994762182236,\n",
       " 0.03070332296192646,\n",
       " -0.000527416355907917,\n",
       " -0.016093304380774498,\n",
       " -0.026036741212010384,\n",
       " -0.004161958582699299,\n",
       " 0.004524951335042715,\n",
       " -0.015351795591413975,\n",
       " -0.0034992254804819822,\n",
       " -0.023053115233778954,\n",
       " 0.00763084227219224,\n",
       " 0.006103475112468004,\n",
       " 0.023789001628756523,\n",
       " 0.02196360006928444,\n",
       " -0.01896618865430355,\n",
       " -0.0026717963628470898,\n",
       " -0.00019991386216133833,\n",
       " 0.010638272389769554,\n",
       " -0.007853709161281586,\n",
       " -0.008899195119738579,\n",
       " 0.035318613052368164,\n",
       " 0.0076011610217392445,\n",
       " -0.004334797151386738,\n",
       " 0.0360783189535141,\n",
       " -0.015514722093939781,\n",
       " 0.001605185098014772,\n",
       " 0.034212615340948105,\n",
       " 0.03453744575381279,\n",
       " -0.007356105372309685,\n",
       " 0.002253955928608775,\n",
       " -0.02294984832406044,\n",
       " -0.033296529203653336,\n",
       " 0.027983225882053375,\n",
       " -0.005619934760034084,\n",
       " -0.0036163574550300837,\n",
       " 0.002768839942291379,\n",
       " 0.012864560820162296,\n",
       " -0.013802846893668175,\n",
       " 0.00636836513876915,\n",
       " 0.018970787525177002,\n",
       " 0.008978044614195824,\n",
       " 0.016570108011364937,\n",
       " -0.004049067851155996,\n",
       " -0.031008949503302574,\n",
       " -0.012852239422500134,\n",
       " 0.00978015549480915,\n",
       " 0.01926240138709545,\n",
       " -0.017336927354335785,\n",
       " -0.03595472127199173,\n",
       " 0.018713146448135376,\n",
       " -0.04626845195889473,\n",
       " 0.0043263365514576435,\n",
       " -0.0034132993314415216,\n",
       " 0.013130614534020424,\n",
       " -0.011816692538559437,\n",
       " -0.01903979480266571,\n",
       " 0.006000372115522623,\n",
       " -0.003643912496045232,\n",
       " 0.027940161526203156,\n",
       " 0.006684964522719383,\n",
       " 0.018205013126134872,\n",
       " 0.007452687714248896,\n",
       " -0.024089129641652107,\n",
       " 0.025905173271894455,\n",
       " -0.027233218774199486,\n",
       " 0.012272571213543415,\n",
       " -0.0018448284827172756,\n",
       " -0.005544823128730059,\n",
       " 0.009867039509117603,\n",
       " -0.025042997673153877,\n",
       " -0.02200734242796898,\n",
       " 0.02639221027493477,\n",
       " 0.016498154029250145,\n",
       " 0.01206506509333849,\n",
       " -0.003299014177173376,\n",
       " -0.010891376063227654,\n",
       " -0.019147543236613274,\n",
       " 0.001439083949662745,\n",
       " -0.012469969689846039,\n",
       " 0.009582580998539925,\n",
       " -0.024471987038850784,\n",
       " 0.00034487340599298477,\n",
       " -0.07745668292045593,\n",
       " -0.026532795280218124,\n",
       " -0.01274452731013298,\n",
       " -0.011214603669941425,\n",
       " 0.0061882114969193935,\n",
       " -0.013115300796926022,\n",
       " -0.014814052730798721,\n",
       " -0.010982543230056763,\n",
       " 0.008492610417306423,\n",
       " -0.03228653967380524,\n",
       " -0.050790756940841675,\n",
       " 0.014563867822289467,\n",
       " 0.0086122527718544,\n",
       " 0.006013467907905579,\n",
       " 0.013900134712457657,\n",
       " 0.005338985938578844,\n",
       " 0.0266876257956028,\n",
       " -0.023452749475836754,\n",
       " 0.008244847878813744,\n",
       " 0.004213199019432068,\n",
       " -0.010019365698099136,\n",
       " -0.019786568358540535,\n",
       " -0.003131131175905466,\n",
       " -0.018985524773597717,\n",
       " 0.0040353755466639996,\n",
       " 0.03649125620722771,\n",
       " -0.008154801093041897,\n",
       " 0.008200785145163536,\n",
       " 0.0018328718142583966,\n",
       " 0.017580905929207802,\n",
       " -0.015269237570464611,\n",
       " -0.1428389996290207,\n",
       " -0.0020868803840130568,\n",
       " -0.009427404031157494,\n",
       " 0.021046847105026245,\n",
       " 0.016448182985186577,\n",
       " 0.010207203216850758,\n",
       " -0.033026937395334244,\n",
       " -0.02016451582312584,\n",
       " -0.008164739236235619,\n",
       " 0.009881635196506977,\n",
       " 0.0028183870017528534,\n",
       " 0.0005380114307627082,\n",
       " -0.00942369643598795,\n",
       " -0.017208339646458626,\n",
       " -0.010163336992263794,\n",
       " 0.1428506076335907,\n",
       " -0.0021216224413365126,\n",
       " -0.010884478688240051,\n",
       " -0.019766584038734436,\n",
       " -0.012549147009849548,\n",
       " -0.007206427399069071,\n",
       " -0.013868450187146664,\n",
       " -0.003311123698949814,\n",
       " -0.00678506214171648,\n",
       " 0.010331920348107815,\n",
       " 0.012242313474416733,\n",
       " 0.03395269811153412,\n",
       " 0.012568121775984764,\n",
       " -0.03603475168347359,\n",
       " 0.006829376798123121,\n",
       " -0.00019312994845677167,\n",
       " -0.0023165899328887463,\n",
       " 0.01010101567953825,\n",
       " -0.008813540451228619,\n",
       " 0.017930608242750168,\n",
       " -0.010825281962752342,\n",
       " -0.00644089188426733,\n",
       " -0.003809482790529728,\n",
       " 0.0024036639370024204,\n",
       " 0.006000712048262358,\n",
       " 0.018986869603395462,\n",
       " 0.014462649822235107,\n",
       " 0.0012742339167743921,\n",
       " 0.02471841499209404,\n",
       " -0.014482572674751282,\n",
       " 0.009529813192784786,\n",
       " -0.012618914246559143,\n",
       " 0.006429106462746859,\n",
       " 0.008864321745932102,\n",
       " -0.01853291690349579,\n",
       " -0.02449246682226658,\n",
       " -0.05028528347611427,\n",
       " 0.002328698756173253,\n",
       " 0.017258264124393463,\n",
       " -0.0057815611362457275,\n",
       " 0.017057154327630997,\n",
       " -0.012412515468895435,\n",
       " 0.017938222736120224,\n",
       " 0.025423448532819748,\n",
       " -0.01203944906592369,\n",
       " -0.002206656150519848,\n",
       " -0.014457907527685165,\n",
       " 0.008693184703588486,\n",
       " -0.00013894514995627105,\n",
       " 0.0026688012294471264,\n",
       " -0.004017973318696022,\n",
       " 0.025395266711711884,\n",
       " 0.011728648096323013,\n",
       " -0.034987371414899826,\n",
       " -0.03300950303673744,\n",
       " 0.020845772698521614,\n",
       " -0.003013938432559371,\n",
       " -0.021996360272169113,\n",
       " 0.01336098462343216,\n",
       " 0.0155780715867877,\n",
       " -0.012401190586388111,\n",
       " 0.015558535233139992,\n",
       " 0.033208202570676804,\n",
       " 0.011188622564077377,\n",
       " -0.00991026684641838,\n",
       " -0.0073697674088180065,\n",
       " -0.004053549841046333,\n",
       " 0.005925280973315239,\n",
       " 0.013355747796595097,\n",
       " 0.026741046458482742,\n",
       " -0.010420691221952438,\n",
       " 0.00501225795596838,\n",
       " 0.01943117007613182,\n",
       " -0.004061950836330652,\n",
       " 0.029987549409270287,\n",
       " 0.01812918484210968,\n",
       " 0.013673256151378155,\n",
       " -0.023127024993300438,\n",
       " 0.008885834366083145,\n",
       " -0.0021157152950763702,\n",
       " 0.018932947888970375,\n",
       " -0.015278754755854607,\n",
       " 0.00242311367765069,\n",
       " 0.024268124252557755,\n",
       " -0.0035741778556257486,\n",
       " 0.023092951625585556,\n",
       " -0.027522865682840347,\n",
       " 0.007608611136674881,\n",
       " -0.012858585454523563,\n",
       " -0.023484496399760246,\n",
       " 0.011713982559740543,\n",
       " 0.016826609149575233,\n",
       " 0.012719482183456421,\n",
       " -0.0002667562512215227,\n",
       " 0.004253928549587727,\n",
       " -0.0018224267987534404,\n",
       " 0.001450953190214932,\n",
       " -0.014040152542293072,\n",
       " 0.0006165103986859322,\n",
       " 0.00848340429365635,\n",
       " 0.003354318207129836,\n",
       " 0.01568535529077053,\n",
       " -0.00390309258364141,\n",
       " -0.011744595132768154,\n",
       " -0.032647084444761276,\n",
       " 0.005780552048236132,\n",
       " -0.015496048144996166,\n",
       " -0.011849029920995235,\n",
       " 0.010898535139858723,\n",
       " 0.0004682925355155021,\n",
       " -0.0004217814712319523,\n",
       " -0.0013895523734390736,\n",
       " -0.0034522044006735086,\n",
       " -0.014994845725595951,\n",
       " -0.015482727438211441,\n",
       " -0.02080387808382511,\n",
       " -0.0019503675866872072,\n",
       " -0.0042388951405882835,\n",
       " 0.008176205679774284,\n",
       " -0.00748968031257391,\n",
       " -0.01862231455743313,\n",
       " -6.737506919307634e-05,\n",
       " -0.010962296277284622,\n",
       " -0.005796822719275951,\n",
       " 0.002738251816481352,\n",
       " 0.015385652892291546,\n",
       " 0.007123151794075966,\n",
       " -0.022363651543855667,\n",
       " -0.016182832419872284,\n",
       " -0.005066560581326485,\n",
       " -0.010639908723533154,\n",
       " 0.022432846948504448,\n",
       " 0.004568217322230339,\n",
       " 0.00372445210814476,\n",
       " 0.000905874592717737,\n",
       " -0.006669728551059961,\n",
       " -0.01320919394493103,\n",
       " 0.013062738813459873,\n",
       " -0.0036809525918215513,\n",
       " 0.0038906449917703867,\n",
       " 0.009865572676062584,\n",
       " 0.004457594361156225,\n",
       " 0.014099161140620708,\n",
       " -0.0018811378395184875,\n",
       " -0.007311474997550249,\n",
       " 0.012804986909031868,\n",
       " 0.010482019744813442,\n",
       " -5.631041858578101e-05,\n",
       " 0.008246193639934063,\n",
       " -0.0003066263161599636,\n",
       " 0.01531521137803793,\n",
       " 0.02522716298699379,\n",
       " -0.003996801096946001,\n",
       " 0.004819290246814489,\n",
       " 0.019738521426916122,\n",
       " 0.010930798947811127,\n",
       " 0.0009650746360421181,\n",
       " -0.03048040345311165,\n",
       " -0.007883355021476746,\n",
       " 0.0019685805309563875,\n",
       " -0.010237112641334534,\n",
       " -0.01687674969434738,\n",
       " 0.02170836739242077,\n",
       " -0.01034837681800127,\n",
       " -0.010303841903805733,\n",
       " 0.00257926806807518,\n",
       " -0.008428114466369152,\n",
       " 0.0029005843680351973,\n",
       " 0.010069702751934528,\n",
       " 0.0011272126575931907,\n",
       " 0.013056234456598759,\n",
       " -0.006590805482119322,\n",
       " 0.00511802826076746,\n",
       " 0.013895572163164616,\n",
       " -0.00830512959510088,\n",
       " 6.46834405415575e-06,\n",
       " -0.02060149423778057,\n",
       " 0.017681721597909927,\n",
       " 0.005680970381945372,\n",
       " 0.0135367875918746,\n",
       " -0.0036236767191439867,\n",
       " -0.014077752828598022,\n",
       " -0.02600439451634884,\n",
       " 0.0017309867544099689,\n",
       " -0.0029880027286708355,\n",
       " 0.007945063523948193,\n",
       " -0.018262961879372597,\n",
       " -0.011456652544438839,\n",
       " -0.004479792434722185,\n",
       " -0.010433854535222054,\n",
       " 0.015600073151290417,\n",
       " 0.013017979450523853,\n",
       " 0.0227754395455122,\n",
       " -0.015956619754433632,\n",
       " -0.005781297571957111,\n",
       " -0.0023754120338708162,\n",
       " 0.004732055123895407,\n",
       " -0.0022952533327043056,\n",
       " -0.008095775730907917,\n",
       " 0.008281207643449306,\n",
       " -0.014156081713736057,\n",
       " 0.0006768145249225199,\n",
       " 0.013602526858448982,\n",
       " 0.002546037081629038,\n",
       " -0.007751962170004845,\n",
       " -0.00890146754682064,\n",
       " 0.0019323356682434678,\n",
       " 0.004006532486528158,\n",
       " 0.014268429018557072,\n",
       " -0.007210488431155682,\n",
       " 0.024171266704797745,\n",
       " -0.0037537894677370787,\n",
       " 0.006793988402932882,\n",
       " 0.019480757415294647,\n",
       " 0.0020730856340378523,\n",
       " -0.013520492240786552,\n",
       " -0.011418482288718224,\n",
       " 0.012657200917601585,\n",
       " -0.017053240910172462,\n",
       " 0.0031681840773671865,\n",
       " 0.007895709946751595,\n",
       " 0.0058290897868573666,\n",
       " -0.0018636933527886868,\n",
       " -0.003615087131038308,\n",
       " 0.011704465374350548,\n",
       " 0.013675801455974579,\n",
       " 0.0004870554548688233,\n",
       " 0.007142418064177036,\n",
       " 0.01772286370396614,\n",
       " -0.0026350216940045357,\n",
       " -0.005275379866361618,\n",
       " 0.005158605054020882,\n",
       " -0.0036796010099351406,\n",
       " -0.014414213597774506,\n",
       " 0.01956256665289402,\n",
       " 0.020459812134504318,\n",
       " -0.0063564358279109,\n",
       " 0.017743470147252083,\n",
       " 0.006750789936631918,\n",
       " 0.021706856787204742,\n",
       " -0.004592478275299072,\n",
       " 0.006178651005029678,\n",
       " 0.008470379747450352,\n",
       " -0.011687573045492172,\n",
       " -0.01824100688099861,\n",
       " -0.004166052211076021,\n",
       " 0.01449069194495678,\n",
       " -0.012648374773561954,\n",
       " -0.007510138675570488,\n",
       " 0.01839565858244896,\n",
       " -0.01756208762526512,\n",
       " -0.02040889859199524,\n",
       " 0.013599107973277569,\n",
       " -0.006927461363375187,\n",
       " 0.026882460340857506,\n",
       " -0.0022713919170200825,\n",
       " 0.006403506733477116,\n",
       " 0.015588311478495598,\n",
       " -0.019111400470137596,\n",
       " 0.007279439829289913,\n",
       " 0.0032695415429770947,\n",
       " -0.005744496360421181,\n",
       " -0.015364008955657482,\n",
       " -0.012671317905187607,\n",
       " -0.003177311737090349,\n",
       " -0.005040101241320372,\n",
       " -0.02037959173321724,\n",
       " -0.0085282102227211,\n",
       " 0.005031924694776535,\n",
       " 0.008794174529612064,\n",
       " 0.005437781568616629,\n",
       " 0.006130122113972902,\n",
       " 0.008547844365239143,\n",
       " 0.017772937193512917,\n",
       " -0.00858025811612606,\n",
       " 0.0043979003094136715,\n",
       " 0.021321291103959084,\n",
       " -0.010517878457903862,\n",
       " 0.0020217543933540583,\n",
       " -0.006481802091002464,\n",
       " 0.001566914259456098,\n",
       " -0.012210037559270859,\n",
       " 0.010710244998335838,\n",
       " -0.01546073704957962,\n",
       " -0.009825305081903934,\n",
       " 0.0003985835355706513,\n",
       " 0.0034214805345982313,\n",
       " -0.010051077231764793,\n",
       " -0.0033942817244678736,\n",
       " 0.013841208070516586,\n",
       " -0.008098063059151173,\n",
       " 0.011804352514445782,\n",
       " 0.005653032101690769,\n",
       " 0.007868284359574318,\n",
       " 0.011835956014692783,\n",
       " 0.0946752205491066,\n",
       " 0.011029980145394802,\n",
       " -0.016425583511590958,\n",
       " 0.0018613956635817885,\n",
       " 0.00028171829762868583,\n",
       " 0.022954821586608887,\n",
       " 0.006572191137820482,\n",
       " -0.007792528718709946,\n",
       " -0.005433635786175728,\n",
       " 0.019301075488328934,\n",
       " -0.020055126398801804,\n",
       " 0.004031894728541374,\n",
       " 0.011954563669860363,\n",
       " 0.004692021291702986,\n",
       " 0.011102558113634586,\n",
       " 0.012108253315091133,\n",
       " -0.004283227492123842,\n",
       " -0.0038227946497499943,\n",
       " -0.010992857627570629,\n",
       " 0.014804788865149021,\n",
       " -0.00875825248658657,\n",
       " -0.0010093244491145015,\n",
       " -0.004460453987121582,\n",
       " -0.00887390784919262,\n",
       " 0.008181050419807434,\n",
       " 0.011883566156029701,\n",
       " 0.00535554438829422,\n",
       " 0.0008233734406530857,\n",
       " -0.006433829665184021,\n",
       " 0.0060198321007192135,\n",
       " 0.004659088794142008,\n",
       " 0.0066431001760065556,\n",
       " ...]"
      ]
     },
     "execution_count": 18,
     "metadata": {},
     "output_type": "execute_result"
    }
   ],
   "source": [
    "\"\"\"\n",
    "Generate Sample Embedding Vector\n",
    "\n",
    "This demonstrates how text gets converted to numerical vectors.\n",
    "The resulting vector has hundreds of dimensions representing semantic meaning.\n",
    "\"\"\"\n",
    "vector = embeddings.embed_query(sample_text)\n",
    "vector  # This will show a long list of floating-point numbers"
   ]
  },
  {
   "cell_type": "markdown",
   "id": "863f6a1b",
   "metadata": {},
   "source": [
    "## 4. Initialize ChromaDB Vector Store\n",
    "Creating a vector database to store document chunks as searchable embeddings. This enables fast similarity search for relevant content retrieval."
   ]
  },
  {
   "cell_type": "code",
   "execution_count": null,
   "id": "3cd7528b",
   "metadata": {},
   "outputs": [
    {
     "data": {
      "text/plain": [
       "[Document(metadata={'source': 'data/doc_2.txt'}, page_content='Natural Language Processing (NLP)\\n\\n    NLP is a field of AI that focuses on the interaction between computers and human language. \\n    Key tasks in NLP include text classification, named entity recognition, sentiment analysis, \\n    machine translation, and question answering. Modern NLP heavily relies on transformer \\n    architectures like BERT, GPT, and T5. These models use attention mechanisms to understand \\n    context and relationships between words in text.'),\n",
       " Document(metadata={'source': 'data/doc_0.txt'}, page_content='Machine Learning Fundamentals\\n\\n    Machine learning is a subset of artificial intelligence that enables systems to learn \\n    and improve from experience without being explicitly programmed. There are three main \\n    types of machine learning: supervised learning, unsupervised learning, and reinforcement \\n    learning. Supervised learning uses labeled data to train models, while unsupervised \\n    learning finds patterns in unlabeled data. Reinforcement learning learns through'),\n",
       " Document(metadata={'source': 'data/doc_0.txt'}, page_content='data. Reinforcement learning learns through \\n    interaction with an environment using rewards and penalties.'),\n",
       " Document(metadata={'source': 'data/doc_1.txt'}, page_content='Deep Learning and Neural Networks\\n\\n    Deep learning is a subset of machine learning based on artificial neural networks. \\n    These networks are inspired by the human brain and consist of layers of interconnected \\n    nodes. Deep learning has revolutionized fields like computer vision, natural language \\n    processing, and speech recognition. Convolutional Neural Networks (CNNs) are particularly \\n    effective for image processing, while Recurrent Neural Networks (RNNs) and Transformers'),\n",
       " Document(metadata={'source': 'data/doc_1.txt'}, page_content='Neural Networks (RNNs) and Transformers \\n    excel at sequential data processing.')]"
      ]
     },
     "execution_count": 19,
     "metadata": {},
     "output_type": "execute_result"
    }
   ],
   "source": [
    "# Display chunks before storing them in the vector database\n",
    "chunks"
   ]
  },
  {
   "cell_type": "code",
   "execution_count": null,
   "id": "8a4255e4",
   "metadata": {},
   "outputs": [
    {
     "name": "stdout",
     "output_type": "stream",
     "text": [
      "Vector store created with 5 vectors\n",
      "Persisted to: ./chroma_db\n"
     ]
    }
   ],
   "source": [
    "\"\"\"\n",
    "Create ChromaDB Vector Store\n",
    "\n",
    "Chroma.from_documents creates a vector database:\n",
    "- documents=chunks: Store all our document chunks\n",
    "- embedding=GoogleGenerativeAI: Use Google's embedding model\n",
    "- persist_directory: Where to save the database (survives restarts)\n",
    "- collection_name: Name for this specific collection\n",
    "\n",
    "This process:\n",
    "1. Converts each chunk to embeddings using Google's model\n",
    "2. Stores embeddings and original text in ChromaDB\n",
    "3. Creates searchable index for similarity queries\n",
    "\"\"\"\n",
    "persist_directory = \"./chroma_db\"\n",
    "\n",
    "# Create and populate the vector store\n",
    "vectorstore = Chroma.from_documents(\n",
    "    documents=chunks,  # Our document chunks to store\n",
    "    embedding=GoogleGenerativeAIEmbeddings(model=\"models/gemini-embedding-001\"),\n",
    "    persist_directory=persist_directory,  # Where to save the database\n",
    "    collection_name=\"rag_collection\"  # Name for this collection\n",
    ")\n",
    "\n",
    "print(f\"Vector store created with {vectorstore._collection.count()} vectors\")\n",
    "print(f\"Persisted to: {persist_directory}\")"
   ]
  },
  {
   "cell_type": "markdown",
   "id": "6c0a47aa",
   "metadata": {},
   "source": [
    "## 5. Test Similarity Search\n",
    "Testing our vector store by searching for documents similar to different queries. This demonstrates how retrieval works in RAG systems."
   ]
  },
  {
   "cell_type": "code",
   "execution_count": null,
   "id": "f3be0dd0",
   "metadata": {},
   "outputs": [
    {
     "data": {
      "text/plain": [
       "[Document(metadata={'source': 'data/doc_0.txt'}, page_content='Machine Learning Fundamentals\\n\\n    Machine learning is a subset of artificial intelligence that enables systems to learn \\n    and improve from experience without being explicitly programmed. There are three main \\n    types of machine learning: supervised learning, unsupervised learning, and reinforcement \\n    learning. Supervised learning uses labeled data to train models, while unsupervised \\n    learning finds patterns in unlabeled data. Reinforcement learning learns through'),\n",
       " Document(metadata={'source': 'data/doc_0.txt'}, page_content='data. Reinforcement learning learns through \\n    interaction with an environment using rewards and penalties.'),\n",
       " Document(metadata={'source': 'data/doc_1.txt'}, page_content='Deep Learning and Neural Networks\\n\\n    Deep learning is a subset of machine learning based on artificial neural networks. \\n    These networks are inspired by the human brain and consist of layers of interconnected \\n    nodes. Deep learning has revolutionized fields like computer vision, natural language \\n    processing, and speech recognition. Convolutional Neural Networks (CNNs) are particularly \\n    effective for image processing, while Recurrent Neural Networks (RNNs) and Transformers')]"
      ]
     },
     "execution_count": 21,
     "metadata": {},
     "output_type": "execute_result"
    }
   ],
   "source": [
    "\"\"\"\n",
    "Test Similarity Search - Machine Learning Query\n",
    "\n",
    "similarity_search finds documents most similar to the query:\n",
    "- Converts query to embedding vector\n",
    "- Compares with stored document embeddings\n",
    "- Returns k most similar chunks\n",
    "\"\"\"\n",
    "query = \"What are the types of machine learning?\"\n",
    "\n",
    "# Find top 3 most similar document chunks\n",
    "similar_docs = vectorstore.similarity_search(query, k=3)\n",
    "similar_docs"
   ]
  },
  {
   "cell_type": "code",
   "execution_count": null,
   "id": "05e99e2a",
   "metadata": {},
   "outputs": [
    {
     "data": {
      "text/plain": [
       "[Document(metadata={'source': 'data/doc_2.txt'}, page_content='Natural Language Processing (NLP)\\n\\n    NLP is a field of AI that focuses on the interaction between computers and human language. \\n    Key tasks in NLP include text classification, named entity recognition, sentiment analysis, \\n    machine translation, and question answering. Modern NLP heavily relies on transformer \\n    architectures like BERT, GPT, and T5. These models use attention mechanisms to understand \\n    context and relationships between words in text.'),\n",
       " Document(metadata={'source': 'data/doc_1.txt'}, page_content='Neural Networks (RNNs) and Transformers \\n    excel at sequential data processing.'),\n",
       " Document(metadata={'source': 'data/doc_1.txt'}, page_content='Deep Learning and Neural Networks\\n\\n    Deep learning is a subset of machine learning based on artificial neural networks. \\n    These networks are inspired by the human brain and consist of layers of interconnected \\n    nodes. Deep learning has revolutionized fields like computer vision, natural language \\n    processing, and speech recognition. Convolutional Neural Networks (CNNs) are particularly \\n    effective for image processing, while Recurrent Neural Networks (RNNs) and Transformers')]"
      ]
     },
     "execution_count": 22,
     "metadata": {},
     "output_type": "execute_result"
    }
   ],
   "source": [
    "\"\"\"Test NLP-related query\"\"\"\n",
    "query = \"what is NLP?\"\n",
    "\n",
    "similar_docs = vectorstore.similarity_search(query, k=3)\n",
    "similar_docs"
   ]
  },
  {
   "cell_type": "code",
   "execution_count": null,
   "id": "c26760c7",
   "metadata": {},
   "outputs": [
    {
     "data": {
      "text/plain": [
       "[Document(metadata={'source': 'data/doc_1.txt'}, page_content='Deep Learning and Neural Networks\\n\\n    Deep learning is a subset of machine learning based on artificial neural networks. \\n    These networks are inspired by the human brain and consist of layers of interconnected \\n    nodes. Deep learning has revolutionized fields like computer vision, natural language \\n    processing, and speech recognition. Convolutional Neural Networks (CNNs) are particularly \\n    effective for image processing, while Recurrent Neural Networks (RNNs) and Transformers'),\n",
       " Document(metadata={'source': 'data/doc_0.txt'}, page_content='Machine Learning Fundamentals\\n\\n    Machine learning is a subset of artificial intelligence that enables systems to learn \\n    and improve from experience without being explicitly programmed. There are three main \\n    types of machine learning: supervised learning, unsupervised learning, and reinforcement \\n    learning. Supervised learning uses labeled data to train models, while unsupervised \\n    learning finds patterns in unlabeled data. Reinforcement learning learns through'),\n",
       " Document(metadata={'source': 'data/doc_0.txt'}, page_content='data. Reinforcement learning learns through \\n    interaction with an environment using rewards and penalties.')]"
      ]
     },
     "execution_count": 23,
     "metadata": {},
     "output_type": "execute_result"
    }
   ],
   "source": [
    "\"\"\"Test Deep Learning query\"\"\"\n",
    "query = \"what is Deep Learning?\"\n",
    "\n",
    "similar_docs = vectorstore.similarity_search(query, k=3)\n",
    "similar_docs"
   ]
  },
  {
   "cell_type": "code",
   "execution_count": null,
   "id": "f7f199e5",
   "metadata": {},
   "outputs": [
    {
     "name": "stdout",
     "output_type": "stream",
     "text": [
      "Query: what is Deep Learning?\n",
      "\n",
      "Top 3 similar chunks:\n",
      "\n",
      "--- Chunk 1 ---\n",
      "Deep Learning and Neural Networks\n",
      "\n",
      "    Deep learning is a subset of machine learning based on artificial neural networks. \n",
      "    These networks are inspired by the human brain and consist of layers of i...\n",
      "Source: data/doc_1.txt\n",
      "\n",
      "--- Chunk 2 ---\n",
      "Machine Learning Fundamentals\n",
      "\n",
      "    Machine learning is a subset of artificial intelligence that enables systems to learn \n",
      "    and improve from experience without being explicitly programmed. There are...\n",
      "Source: data/doc_0.txt\n",
      "\n",
      "--- Chunk 3 ---\n",
      "data. Reinforcement learning learns through \n",
      "    interaction with an environment using rewards and penalties....\n",
      "Source: data/doc_0.txt\n"
     ]
    }
   ],
   "source": [
    "\"\"\"\n",
    "Display Search Results in Human-Readable Format\n",
    "\n",
    "This helper function makes it easier to understand what documents\n",
    "were retrieved and why they might be relevant to the query.\n",
    "\"\"\"\n",
    "print(f\"Query: {query}\")\n",
    "print(f\"\\nTop {len(similar_docs)} similar chunks:\")\n",
    "for i, doc in enumerate(similar_docs):\n",
    "    print(f\"\\n--- Chunk {i+1} ---\")\n",
    "    print(doc.page_content[:200] + \"...\")  # First 200 characters\n",
    "    print(f\"Source: {doc.metadata.get('source', 'Unknown')}\")"
   ]
  },
  {
   "cell_type": "markdown",
   "id": "7ddc264e",
   "metadata": {},
   "source": [
    "## 6. Advanced Similarity Search with Scores\n",
    "Understanding how similar each retrieved document is to your query helps evaluate retrieval quality."
   ]
  },
  {
   "cell_type": "code",
   "execution_count": null,
   "id": "51c6455f",
   "metadata": {},
   "outputs": [
    {
     "data": {
      "text/plain": [
       "[(Document(metadata={'source': 'data/doc_1.txt'}, page_content='Deep Learning and Neural Networks\\n\\n    Deep learning is a subset of machine learning based on artificial neural networks. \\n    These networks are inspired by the human brain and consist of layers of interconnected \\n    nodes. Deep learning has revolutionized fields like computer vision, natural language \\n    processing, and speech recognition. Convolutional Neural Networks (CNNs) are particularly \\n    effective for image processing, while Recurrent Neural Networks (RNNs) and Transformers'),\n",
       "  0.5264936089515686),\n",
       " (Document(metadata={'source': 'data/doc_0.txt'}, page_content='Machine Learning Fundamentals\\n\\n    Machine learning is a subset of artificial intelligence that enables systems to learn \\n    and improve from experience without being explicitly programmed. There are three main \\n    types of machine learning: supervised learning, unsupervised learning, and reinforcement \\n    learning. Supervised learning uses labeled data to train models, while unsupervised \\n    learning finds patterns in unlabeled data. Reinforcement learning learns through'),\n",
       "  0.6288177967071533),\n",
       " (Document(metadata={'source': 'data/doc_0.txt'}, page_content='data. Reinforcement learning learns through \\n    interaction with an environment using rewards and penalties.'),\n",
       "  0.6650490760803223)]"
      ]
     },
     "execution_count": 25,
     "metadata": {},
     "output_type": "execute_result"
    }
   ],
   "source": [
    "\"\"\"\n",
    "Similarity Search with Confidence Scores\n",
    "\n",
    "similarity_search_with_score returns both documents and similarity scores:\n",
    "- Lower scores = MORE similar (using L2/Euclidean distance)\n",
    "- Helps understand retrieval confidence\n",
    "- Useful for filtering low-quality matches\n",
    "\"\"\"\n",
    "results_scores = vectorstore.similarity_search_with_score(query, k=3)\n",
    "results_scores"
   ]
  },
  {
   "cell_type": "markdown",
   "id": "b76b607a",
   "metadata": {},
   "source": [
    "## Understanding Similarity Scores\n",
    "\n",
    "**ChromaDB Scoring System:**\n",
    "\n",
    "**L2 Distance (Default):**\n",
    "- **Lower scores = MORE similar** (closer in vector space)\n",
    "- Score of 0 = identical vectors\n",
    "- Typical range: 0 to 2+ (can be higher for very different content)\n",
    "\n",
    "**Cosine Similarity (Alternative):**\n",
    "- Higher scores = MORE similar  \n",
    "- Range: -1 to 1 (1 being identical)\n",
    "\n",
    "**Practical Guidelines:**\n",
    "- Scores < 0.5: Very similar, high confidence\n",
    "- Scores 0.5-1.0: Moderately similar, good for RAG\n",
    "- Scores > 1.0: Less similar, may not be relevant"
   ]
  },
  {
   "cell_type": "markdown",
   "id": "fb4dbdd5",
   "metadata": {},
   "source": [
    "## 7. Building the Complete RAG System\n",
    "Now we'll create a full RAG pipeline that combines retrieval with generation to answer questions using our knowledge base."
   ]
  },
  {
   "cell_type": "code",
   "execution_count": null,
   "id": "638e3c2e",
   "metadata": {},
   "outputs": [],
   "source": [
    "\"\"\"\n",
    "Alternative: OpenAI LLM Setup (Commented Out)\n",
    "\n",
    "This shows how you could use OpenAI's models instead of Google's:\n",
    "- Requires OPENAI_API_KEY environment variable\n",
    "- Uses ChatOpenAI for the language model component\n",
    "\"\"\"\n",
    "# from langchain_openai import ChatOpenAI\n",
    "# \n",
    "# llm = ChatOpenAI(\n",
    "#     model_name=\"gpt-3.5-turbo\"\n",
    "# )"
   ]
  },
  {
   "cell_type": "code",
   "execution_count": null,
   "id": "a74696c1",
   "metadata": {},
   "outputs": [],
   "source": [
    "\"\"\"\n",
    "Initialize Google's Language Model\n",
    "\n",
    "ChatGoogleGenerativeAI provides the generative capabilities:\n",
    "- model=\"gemini-2.0-flash\": Latest Gemini model\n",
    "- temperature=0: Deterministic responses (less creative, more factual)\n",
    "- max_tokens=None: No limit on response length\n",
    "- timeout/max_retries: Handle API reliability\n",
    "\"\"\"\n",
    "from langchain_google_genai import ChatGoogleGenerativeAI\n",
    "\n",
    "llm = ChatGoogleGenerativeAI(\n",
    "    model=\"gemini-2.0-flash\",\n",
    "    temperature=0,  # More factual, less creative responses\n",
    "    max_tokens=None,  # No response length limit\n",
    "    timeout=None,\n",
    "    max_retries=2,\n",
    ")"
   ]
  },
  {
   "cell_type": "code",
   "execution_count": null,
   "id": "4ab12549",
   "metadata": {},
   "outputs": [
    {
     "data": {
      "text/plain": [
       "AIMessage(content='Large Language Models (LLMs) are a type of artificial intelligence (AI) model that are trained on massive amounts of text data to understand and generate human-like text. They are designed to predict the next word in a sequence, given the preceding words. By learning patterns and relationships in the data, they can perform a wide range of natural language processing (NLP) tasks.\\n\\nHere\\'s a breakdown of key aspects:\\n\\n**Key Characteristics:**\\n\\n*   **Large Scale:** The \"large\" in LLM refers to the massive size of both the model (number of parameters) and the dataset it\\'s trained on.  These models often have billions or even trillions of parameters.\\n*   **Transformer Architecture:** Most modern LLMs are based on the transformer architecture, which is particularly well-suited for processing sequential data like text. Transformers use self-attention mechanisms to weigh the importance of different words in a sentence, allowing them to capture long-range dependencies.\\n*   **Pre-training and Fine-tuning:** LLMs are typically pre-trained on a vast corpus of text data (e.g., the entire internet, books, articles). This pre-training allows them to learn general language patterns and knowledge.  After pre-training, they can be fine-tuned on specific tasks (e.g., question answering, text summarization, translation) using smaller, task-specific datasets.\\n*   **Generative Capabilities:** LLMs are generative models, meaning they can generate new text that is similar to the text they were trained on. This allows them to perform tasks like writing articles, creating poems, and generating code.\\n*   **Contextual Understanding:** They can understand the context of a conversation or a piece of text and respond accordingly.\\n*   **Emergent Abilities:**  As LLMs grow in size, they often exhibit \"emergent abilities\" – capabilities that were not explicitly programmed but arise from the scale of the model and the data it was trained on.  Examples include in-context learning (learning from a few examples provided in the prompt) and reasoning abilities.\\n\\n**How They Work (Simplified):**\\n\\n1.  **Training Data:** LLMs are fed massive amounts of text data.\\n2.  **Pattern Recognition:** During training, the model learns to predict the next word in a sequence based on the preceding words. It identifies patterns, relationships, and statistical probabilities in the data.\\n3.  **Parameter Adjustment:** The model\\'s parameters (weights and biases) are adjusted during training to minimize the error in its predictions.\\n4.  **Text Generation:** When given a prompt or input text, the model uses its learned knowledge to predict the most likely next word. This process is repeated iteratively to generate a sequence of words, forming a coherent text.\\n\\n**Examples of LLMs:**\\n\\n*   **GPT (Generative Pre-trained Transformer) series (e.g., GPT-3, GPT-4):** Developed by OpenAI, known for their strong text generation capabilities.\\n*   **BERT (Bidirectional Encoder Representations from Transformers):** Developed by Google, excels at understanding the context of words in a sentence.\\n*   **LaMDA (Language Model for Dialogue Applications):** Developed by Google, designed for conversational AI.\\n*   **PaLM (Pathways Language Model):** Developed by Google, known for its reasoning and understanding capabilities.\\n*   **Llama (Large Language Model Meta AI):** Developed by Meta, an open-source model.\\n\\n**Applications:**\\n\\nLLMs have a wide range of applications, including:\\n\\n*   **Chatbots and Virtual Assistants:** Powering conversational AI systems.\\n*   **Content Creation:** Generating articles, blog posts, marketing copy, and other types of content.\\n*   **Translation:** Translating text between languages.\\n*   **Summarization:** Summarizing long documents or articles.\\n*   **Question Answering:** Answering questions based on a given text or knowledge base.\\n*   **Code Generation:** Generating code in various programming languages.\\n*   **Sentiment Analysis:** Determining the sentiment (positive, negative, neutral) of a piece of text.\\n*   **Text Classification:** Categorizing text into different categories.\\n*   **Search Engines:** Improving search results by understanding the meaning of search queries.\\n\\n**Limitations and Challenges:**\\n\\n*   **Bias:** LLMs can inherit biases from the data they are trained on, leading to unfair or discriminatory outputs.\\n*   **Hallucinations:** LLMs can sometimes generate incorrect or nonsensical information (often referred to as \"hallucinations\").\\n*   **Computational Cost:** Training and running LLMs can be computationally expensive, requiring significant resources.\\n*   **Ethical Concerns:** LLMs can be used for malicious purposes, such as generating fake news or spreading misinformation.\\n*   **Lack of True Understanding:** While LLMs can generate impressive text, they don\\'t truly \"understand\" the meaning of the words they are using. They are essentially sophisticated pattern-matching machines.\\n*   **Explainability:** It can be difficult to understand why an LLM generated a particular output.\\n\\n**In summary, Large Language Models are powerful AI tools that can generate human-like text and perform a wide range of NLP tasks. They are based on the transformer architecture and are trained on massive amounts of data. While they have many potential applications, it\\'s important to be aware of their limitations and ethical concerns.**', additional_kwargs={}, response_metadata={'prompt_feedback': {'block_reason': 0, 'safety_ratings': []}, 'finish_reason': 'STOP', 'safety_ratings': []}, id='run--3857f46a-234e-484b-a712-0a54d6f5dc49-0', usage_metadata={'input_tokens': 5, 'output_tokens': 1129, 'total_tokens': 1134, 'input_token_details': {'cache_read': 0}})"
      ]
     },
     "execution_count": 28,
     "metadata": {},
     "output_type": "execute_result"
    }
   ],
   "source": [
    "\"\"\"Test the Language Model\n",
    "\n",
    "Quick test to ensure the LLM is working properly before integrating \n",
    "it into our RAG pipeline.\n",
    "\"\"\"\n",
    "test_response = llm.invoke(\"What is Large Language Models\")\n",
    "test_response"
   ]
  },
  {
   "cell_type": "code",
   "execution_count": null,
   "id": "ac342333",
   "metadata": {},
   "outputs": [],
   "source": [
    "\"\"\"\n",
    "Alternative LLM Initialization (Commented Out)\n",
    "\n",
    "Shows another way to initialize models using init_chat_model:\n",
    "- Supports multiple providers (OpenAI, Groq, etc.)\n",
    "- Unified interface for different LLM providers\n",
    "\"\"\"\n",
    "# from langchain.chat_models.base import init_chat_model\n",
    "# \n",
    "# llm = init_chat_model(\"openai:gpt-3.5-turbo\")\n",
    "# # llm = init_chat_model(\"groq:\")\n",
    "# llm"
   ]
  },
  {
   "cell_type": "code",
   "execution_count": null,
   "id": "86c70569",
   "metadata": {},
   "outputs": [],
   "source": [
    "# Test alternative LLM setup\n",
    "# llm.invoke(\"What is AI\")"
   ]
  },
  {
   "cell_type": "markdown",
   "id": "cf0bc2b1",
   "metadata": {},
   "source": [
    "## 8. Modern RAG Chain Implementation\n",
    "Creating a complete RAG pipeline using LangChain's latest chain abstractions for retrieval and generation."
   ]
  },
  {
   "cell_type": "code",
   "execution_count": null,
   "id": "766431a8",
   "metadata": {},
   "outputs": [],
   "source": [
    "\"\"\"\n",
    "Import Modern RAG Chain Components\n",
    "\n",
    "- create_retrieval_chain: Combines retriever + document processor\n",
    "- ChatPromptTemplate: Structures prompts with variables\n",
    "- create_stuff_documents_chain: Processes retrieved documents with LLM\n",
    "\"\"\"\n",
    "from langchain.chains import create_retrieval_chain\n",
    "from langchain_core.prompts import ChatPromptTemplate\n",
    "from langchain.chains.combine_documents import create_stuff_documents_chain"
   ]
  },
  {
   "cell_type": "code",
   "execution_count": null,
   "id": "a4ff9a65",
   "metadata": {},
   "outputs": [
    {
     "data": {
      "text/plain": [
       "VectorStoreRetriever(tags=['Chroma', 'GoogleGenerativeAIEmbeddings'], vectorstore=<langchain_community.vectorstores.chroma.Chroma object at 0x7f17025ca030>, search_kwargs={})"
      ]
     },
     "execution_count": 32,
     "metadata": {},
     "output_type": "execute_result"
    }
   ],
   "source": [
    "\"\"\"\n",
    "Convert Vector Store to Retriever\n",
    "\n",
    "as_retriever converts our vector store into a retriever component:\n",
    "- search_kwargs={\"k\":3}: Retrieve top 3 relevant chunks per query\n",
    "- This becomes the \"retrieval\" part of our RAG system\n",
    "\"\"\"\n",
    "# Convert vector store to retriever interface\n",
    "retriever = vectorstore.as_retriever(\n",
    "    search_kwarg={\"k\": 3}  # Retrieve top 3 relevant chunks\n",
    ")\n",
    "retriever"
   ]
  },
  {
   "cell_type": "code",
   "execution_count": null,
   "id": "47773c21",
   "metadata": {},
   "outputs": [],
   "source": [
    "\"\"\"\n",
    "Create RAG Prompt Template\n",
    "\n",
    "This prompt template structures how the LLM uses retrieved context:\n",
    "- {context}: Placeholder for retrieved document chunks\n",
    "- {input}: Placeholder for user's question\n",
    "- Instructions guide the LLM's behavior and response style\n",
    "\"\"\"\n",
    "from langchain_core.prompts import ChatPromptTemplate\n",
    "\n",
    "system_prompt = \"\"\"You are an assistant for question-answering tasks. \n",
    "Use the following pieces of retrieved context to answer the question. \n",
    "If you don't know the answer, just say that you don't know. \n",
    "Use three sentences maximum and keep the answer concise.\n",
    "\n",
    "Context: {context}\"\"\"\n",
    "\n",
    "prompt = ChatPromptTemplate.from_messages([\n",
    "    (\"system\", system_prompt),\n",
    "    (\"human\", \"{input}\")\n",
    "])"
   ]
  },
  {
   "cell_type": "code",
   "execution_count": null,
   "id": "90e91b16",
   "metadata": {},
   "outputs": [
    {
     "data": {
      "text/plain": [
       "ChatPromptTemplate(input_variables=['context', 'input'], input_types={}, partial_variables={}, messages=[SystemMessagePromptTemplate(prompt=PromptTemplate(input_variables=['context'], input_types={}, partial_variables={}, template=\"You are an assistant for question-answering tasks. \\nUse the following pieces of retrieved context to answer the question. \\nIf you don't know the answer, just say that you don't know. \\nUse three sentences maximum and keep the answer concise.\\n\\nContext: {context}\"), additional_kwargs={}), HumanMessagePromptTemplate(prompt=PromptTemplate(input_variables=['input'], input_types={}, partial_variables={}, template='{input}'), additional_kwargs={})])"
      ]
     },
     "execution_count": 34,
     "metadata": {},
     "output_type": "execute_result"
    }
   ],
   "source": [
    "# Display the prompt structure\n",
    "prompt"
   ]
  },
  {
   "cell_type": "markdown",
   "id": "885d355a",
   "metadata": {},
   "source": [
    "## Understanding create_stuff_documents_chain\n",
    "\n",
    "**What it does:**\n",
    "`create_stuff_documents_chain` creates a processing chain that:\n",
    "1. Takes retrieved documents from the retriever\n",
    "2. \"Stuffs\" them into the prompt's `{context}` placeholder  \n",
    "3. Sends the complete prompt to the LLM\n",
    "4. Returns the LLM's response\n",
    "\n",
    "**Why \"stuff\"?** It literally stuffs all retrieved documents into a single prompt context window."
   ]
  },
  {
   "cell_type": "code",
   "execution_count": null,
   "id": "9cea826e",
   "metadata": {},
   "outputs": [
    {
     "data": {
      "text/plain": [
       "RunnableBinding(bound=RunnableBinding(bound=RunnableAssign(mapper={\n",
       "  context: RunnableLambda(format_docs)\n",
       "}), kwargs={}, config={'run_name': 'format_inputs'}, config_factories=[])\n",
       "| ChatPromptTemplate(input_variables=['context', 'input'], input_types={}, partial_variables={}, messages=[SystemMessagePromptTemplate(prompt=PromptTemplate(input_variables=['context'], input_types={}, partial_variables={}, template=\"You are an assistant for question-answering tasks. \\nUse the following pieces of retrieved context to answer the question. \\nIf you don't know the answer, just say that you don't know. \\nUse three sentences maximum and keep the answer concise.\\n\\nContext: {context}\"), additional_kwargs={}), HumanMessagePromptTemplate(prompt=PromptTemplate(input_variables=['input'], input_types={}, partial_variables={}, template='{input}'), additional_kwargs={})])\n",
       "| ChatGoogleGenerativeAI(model='models/gemini-2.0-flash', google_api_key=SecretStr('**********'), temperature=0.0, max_retries=2, client=<google.ai.generativelanguage_v1beta.services.generative_service.client.GenerativeServiceClient object at 0x7f1700427620>, default_metadata=())\n",
       "| StrOutputParser(), kwargs={}, config={'run_name': 'stuff_documents_chain'}, config_factories=[])"
      ]
     },
     "execution_count": 35,
     "metadata": {},
     "output_type": "execute_result"
    }
   ],
   "source": [
    "\"\"\"\n",
    "Create Document Processing Chain\n",
    "\n",
    "create_stuff_documents_chain combines LLM + prompt to process documents:\n",
    "- Takes retrieved documents\n",
    "- Inserts them into prompt template\n",
    "- Sends to LLM for processing\n",
    "- Returns generated response\n",
    "\"\"\"\n",
    "from langchain.chains.combine_documents import create_stuff_documents_chain\n",
    "\n",
    "document_chain = create_stuff_documents_chain(llm, prompt)\n",
    "document_chain"
   ]
  },
  {
   "cell_type": "markdown",
   "id": "85ed13f6",
   "metadata": {},
   "source": [
    "## Chain Components Relationship\n",
    "\n",
    "**Document Chain Flow:**\n",
    "1. 📄 Retrieved documents come in\n",
    "2. 📝 Documents get inserted into prompt template  \n",
    "3. 🤖 Complete prompt goes to LLM\n",
    "4. ✨ LLM generates contextual response\n",
    "5. 📤 Response is returned to user"
   ]
  },
  {
   "cell_type": "markdown",
   "id": "f5530144",
   "metadata": {},
   "source": [
    "## Understanding create_retrieval_chain\n",
    "\n",
    "**Complete RAG Pipeline:**\n",
    "`create_retrieval_chain` combines:\n",
    "- **Retriever**: Finds relevant documents from vector store\n",
    "- **Document Chain**: Processes documents with LLM\n",
    "\n",
    "**Result**: End-to-end RAG system that retrieves + generates answers automatically."
   ]
  },
  {
   "cell_type": "code",
   "execution_count": null,
   "id": "c9a3667d",
   "metadata": {},
   "outputs": [
    {
     "data": {
      "text/plain": [
       "RunnableBinding(bound=RunnableAssign(mapper={\n",
       "  context: RunnableBinding(bound=RunnableLambda(lambda x: x['input'])\n",
       "           | VectorStoreRetriever(tags=['Chroma', 'GoogleGenerativeAIEmbeddings'], vectorstore=<langchain_community.vectorstores.chroma.Chroma object at 0x7f17025ca030>, search_kwargs={}), kwargs={}, config={'run_name': 'retrieve_documents'}, config_factories=[])\n",
       "})\n",
       "| RunnableAssign(mapper={\n",
       "    answer: RunnableBinding(bound=RunnableBinding(bound=RunnableAssign(mapper={\n",
       "              context: RunnableLambda(format_docs)\n",
       "            }), kwargs={}, config={'run_name': 'format_inputs'}, config_factories=[])\n",
       "            | ChatPromptTemplate(input_variables=['context', 'input'], input_types={}, partial_variables={}, messages=[SystemMessagePromptTemplate(prompt=PromptTemplate(input_variables=['context'], input_types={}, partial_variables={}, template=\"You are an assistant for question-answering tasks. \\nUse the following pieces of retrieved context to answer the question. \\nIf you don't know the answer, just say that you don't know. \\nUse three sentences maximum and keep the answer concise.\\n\\nContext: {context}\"), additional_kwargs={}), HumanMessagePromptTemplate(prompt=PromptTemplate(input_variables=['input'], input_types={}, partial_variables={}, template='{input}'), additional_kwargs={})])\n",
       "            | ChatGoogleGenerativeAI(model='models/gemini-2.0-flash', google_api_key=SecretStr('**********'), temperature=0.0, max_retries=2, client=<google.ai.generativelanguage_v1beta.services.generative_service.client.GenerativeServiceClient object at 0x7f1700427620>, default_metadata=())\n",
       "            | StrOutputParser(), kwargs={}, config={'run_name': 'stuff_documents_chain'}, config_factories=[])\n",
       "  }), kwargs={}, config={'run_name': 'retrieval_chain'}, config_factories=[])"
      ]
     },
     "execution_count": 36,
     "metadata": {},
     "output_type": "execute_result"
    }
   ],
   "source": [
    "\"\"\"\n",
    "Create Complete RAG Chain\n",
    "\n",
    "create_retrieval_chain combines retriever + document_chain:\n",
    "1. User asks question\n",
    "2. Retriever finds relevant documents  \n",
    "3. Document chain processes documents with LLM\n",
    "4. System returns answer with sources\n",
    "\n",
    "This is our complete RAG pipeline!\n",
    "\"\"\"\n",
    "from langchain.chains import create_retrieval_chain\n",
    "\n",
    "rag_chain = create_retrieval_chain(retriever, document_chain)\n",
    "rag_chain"
   ]
  },
  {
   "cell_type": "code",
   "execution_count": null,
   "id": "9d24f5cb",
   "metadata": {},
   "outputs": [],
   "source": [
    "\"\"\"Test the Complete RAG System\"\"\"\n",
    "response = rag_chain.invoke({\"input\": \"What is Deep Learning?\"})"
   ]
  },
  {
   "cell_type": "code",
   "execution_count": null,
   "id": "e442e525",
   "metadata": {},
   "outputs": [
    {
     "data": {
      "text/plain": [
       "{'input': 'What is Deep Learning?',\n",
       " 'context': [Document(metadata={'source': 'data/doc_1.txt'}, page_content='Deep Learning and Neural Networks\\n\\n    Deep learning is a subset of machine learning based on artificial neural networks. \\n    These networks are inspired by the human brain and consist of layers of interconnected \\n    nodes. Deep learning has revolutionized fields like computer vision, natural language \\n    processing, and speech recognition. Convolutional Neural Networks (CNNs) are particularly \\n    effective for image processing, while Recurrent Neural Networks (RNNs) and Transformers'),\n",
       "  Document(metadata={'source': 'data/doc_0.txt'}, page_content='Machine Learning Fundamentals\\n\\n    Machine learning is a subset of artificial intelligence that enables systems to learn \\n    and improve from experience without being explicitly programmed. There are three main \\n    types of machine learning: supervised learning, unsupervised learning, and reinforcement \\n    learning. Supervised learning uses labeled data to train models, while unsupervised \\n    learning finds patterns in unlabeled data. Reinforcement learning learns through'),\n",
       "  Document(metadata={'source': 'data/doc_0.txt'}, page_content='data. Reinforcement learning learns through \\n    interaction with an environment using rewards and penalties.'),\n",
       "  Document(metadata={'source': 'data/doc_1.txt'}, page_content='Neural Networks (RNNs) and Transformers \\n    excel at sequential data processing.')],\n",
       " 'answer': 'Deep learning is a subset of machine learning based on artificial neural networks. These networks are inspired by the human brain and consist of layers of interconnected nodes. It has revolutionized fields like computer vision, natural language processing, and speech recognition.'}"
      ]
     },
     "execution_count": 38,
     "metadata": {},
     "output_type": "execute_result"
    }
   ],
   "source": [
    "# Display full response structure (includes answer + context)\n",
    "response"
   ]
  },
  {
   "cell_type": "code",
   "execution_count": null,
   "id": "ebc12b5e",
   "metadata": {},
   "outputs": [
    {
     "data": {
      "text/plain": [
       "'Deep learning is a subset of machine learning based on artificial neural networks. These networks are inspired by the human brain and consist of layers of interconnected nodes. It has revolutionized fields like computer vision, natural language processing, and speech recognition.'"
      ]
     },
     "execution_count": 40,
     "metadata": {},
     "output_type": "execute_result"
    }
   ],
   "source": [
    "# Extract just the answer\n",
    "response[\"answer\"]"
   ]
  },
  {
   "cell_type": "code",
   "execution_count": null,
   "id": "01853ab8",
   "metadata": {},
   "outputs": [
    {
     "name": "stdout",
     "output_type": "stream",
     "text": [
      "Question: What are the three types of machine learning?\n",
      "--------------------------------------------------\n",
      "Answer: The three main types of machine learning are supervised learning, unsupervised learning, and reinforcement learning. Supervised learning uses labeled data, while unsupervised learning finds patterns in unlabeled data. Reinforcement learning learns through interaction with an environment using rewards and penalties.\n",
      "\n",
      "Retrieved Context:\n",
      "\n",
      "--- Source 1 ---\n",
      "Machine Learning Fundamentals\n",
      "\n",
      "    Machine learning is a subset of artificial intelligence that enables systems to learn \n",
      "    and improve from experience without being explicitly programmed. There are...\n",
      "\n",
      "--- Source 2 ---\n",
      "data. Reinforcement learning learns through \n",
      "    interaction with an environment using rewards and penalties....\n",
      "\n",
      "--- Source 3 ---\n",
      "Deep Learning and Neural Networks\n",
      "\n",
      "    Deep learning is a subset of machine learning based on artificial neural networks. \n",
      "    These networks are inspired by the human brain and consist of layers of i...\n",
      "\n",
      "--- Source 4 ---\n",
      "Neural Networks (RNNs) and Transformers \n",
      "    excel at sequential data processing....\n",
      "\n",
      "================================================================================\n",
      "\n",
      "Question: What is deep learning and how does it relate to neural networks?\n",
      "--------------------------------------------------\n",
      "Answer: Deep learning is a subset of machine learning that uses artificial neural networks. These networks are inspired by the human brain and consist of interconnected nodes. Deep learning has revolutionized fields like computer vision, natural language processing, and speech recognition.\n",
      "\n",
      "Retrieved Context:\n",
      "\n",
      "--- Source 1 ---\n",
      "Deep Learning and Neural Networks\n",
      "\n",
      "    Deep learning is a subset of machine learning based on artificial neural networks. \n",
      "    These networks are inspired by the human brain and consist of layers of i...\n",
      "\n",
      "--- Source 2 ---\n",
      "Neural Networks (RNNs) and Transformers \n",
      "    excel at sequential data processing....\n",
      "\n",
      "--- Source 3 ---\n",
      "Machine Learning Fundamentals\n",
      "\n",
      "    Machine learning is a subset of artificial intelligence that enables systems to learn \n",
      "    and improve from experience without being explicitly programmed. There are...\n",
      "\n",
      "--- Source 4 ---\n",
      "data. Reinforcement learning learns through \n",
      "    interaction with an environment using rewards and penalties....\n",
      "\n",
      "================================================================================\n",
      "\n",
      "Question: What are CNNs best used for?\n",
      "--------------------------------------------------\n",
      "Answer: Convolutional Neural Networks (CNNs) are a type of deep learning model. They are particularly effective for image processing. Deep learning has revolutionized fields like computer vision.\n",
      "\n",
      "Retrieved Context:\n",
      "\n",
      "--- Source 1 ---\n",
      "Neural Networks (RNNs) and Transformers \n",
      "    excel at sequential data processing....\n",
      "\n",
      "--- Source 2 ---\n",
      "Deep Learning and Neural Networks\n",
      "\n",
      "    Deep learning is a subset of machine learning based on artificial neural networks. \n",
      "    These networks are inspired by the human brain and consist of layers of i...\n",
      "\n",
      "--- Source 3 ---\n",
      "Natural Language Processing (NLP)\n",
      "\n",
      "    NLP is a field of AI that focuses on the interaction between computers and human language. \n",
      "    Key tasks in NLP include text classification, named entity recogn...\n",
      "\n",
      "--- Source 4 ---\n",
      "data. Reinforcement learning learns through \n",
      "    interaction with an environment using rewards and penalties....\n",
      "\n",
      "================================================================================\n",
      "\n"
     ]
    }
   ],
   "source": [
    "\"\"\"\n",
    "Comprehensive RAG Query Function\n",
    "\n",
    "This function demonstrates a complete RAG interaction:\n",
    "1. Takes a question\n",
    "2. Retrieves relevant context\n",
    "3. Generates answer using LLM\n",
    "4. Shows both answer and sources used\n",
    "\"\"\"\n",
    "def query_rag_modern(question):\n",
    "    \"\"\"Query the RAG system and display detailed results\"\"\"\n",
    "    print(f\"Question: {question}\")\n",
    "    print(\"-\" * 50)\n",
    "    \n",
    "    # Use the complete RAG chain\n",
    "    result = rag_chain.invoke({\"input\": question})\n",
    "    \n",
    "    # Display answer\n",
    "    print(f\"Answer: {result['answer']}\")\n",
    "    \n",
    "    # Display retrieved context sources\n",
    "    print(\"\\nRetrieved Context:\")\n",
    "    for i, doc in enumerate(result['context']):\n",
    "        print(f\"\\n--- Source {i+1} ---\")\n",
    "        print(doc.page_content[:200] + \"...\")\n",
    "    \n",
    "    return result\n",
    "\n",
    "# Test multiple questions to demonstrate RAG capabilities\n",
    "test_questions = [\n",
    "    \"What are the three types of machine learning?\",\n",
    "    \"What is deep learning and how does it relate to neural networks?\", \n",
    "    \"What are CNNs best used for?\"\n",
    "]\n",
    "\n",
    "for question in test_questions:\n",
    "    result = query_rag_modern(question)\n",
    "    print(\"\\n\" + \"=\"*80 + \"\\n\")"
   ]
  },
  {
   "cell_type": "markdown",
   "id": "bf7b4fbb",
   "metadata": {},
   "source": [
    "## 9. Alternative RAG Implementation with LCEL\n",
    "LangChain Expression Language (LCEL) provides a more flexible way to build RAG chains with custom logic and processing steps."
   ]
  },
  {
   "cell_type": "code",
   "execution_count": null,
   "id": "92ded115",
   "metadata": {},
   "outputs": [],
   "source": [
    "\"\"\"\n",
    "LCEL Components for Custom RAG Chain\n",
    "\n",
    "- StrOutputParser: Converts LLM output to plain string\n",
    "- RunnablePassthrough: Passes input through unchanged  \n",
    "- RunnableParallel: Runs multiple operations in parallel\n",
    "\n",
    "LCEL allows more granular control over the RAG pipeline.\n",
    "\"\"\"\n",
    "from langchain_core.output_parsers import StrOutputParser\n",
    "from langchain_core.runnables import RunnablePassthrough, RunnableParallel"
   ]
  },
  {
   "cell_type": "code",
   "execution_count": null,
   "id": "fba4ffdc",
   "metadata": {},
   "outputs": [
    {
     "data": {
      "text/plain": [
       "ChatPromptTemplate(input_variables=['context', 'question'], input_types={}, partial_variables={}, messages=[HumanMessagePromptTemplate(prompt=PromptTemplate(input_variables=['context', 'question'], input_types={}, partial_variables={}, template=\"Use the following context to answer the question. \\nIf you don't know the answer based on the context, say you don't know.\\nProvide specific details from the context to support your answer.\\n\\nContext:\\n{context}\\n\\nQuestion: {question}\\n\\nAnswer:\"), additional_kwargs={})])"
      ]
     },
     "execution_count": 44,
     "metadata": {},
     "output_type": "execute_result"
    }
   ],
   "source": [
    "\"\"\"\n",
    "Custom Prompt Template for LCEL Chain\n",
    "\n",
    "This prompt gives more detailed instructions for using context\n",
    "and provides specific guidance for handling unknown information.\n",
    "\"\"\"\n",
    "custom_prompt = ChatPromptTemplate.from_template(\"\"\"Use the following context to answer the question. \n",
    "If you don't know the answer based on the context, say you don't know.\n",
    "Provide specific details from the context to support your answer.\n",
    "\n",
    "Context:\n",
    "{context}\n",
    "\n",
    "Question: {question}\n",
    "\n",
    "Answer:\"\"\")\n",
    "custom_prompt"
   ]
  },
  {
   "cell_type": "code",
   "execution_count": null,
   "id": "06a469d7",
   "metadata": {},
   "outputs": [
    {
     "data": {
      "text/plain": [
       "VectorStoreRetriever(tags=['Chroma', 'GoogleGenerativeAIEmbeddings'], vectorstore=<langchain_community.vectorstores.chroma.Chroma object at 0x7f17025ca030>, search_kwargs={})"
      ]
     },
     "execution_count": 45,
     "metadata": {},
     "output_type": "execute_result"
    }
   ],
   "source": [
    "\"\"\"\n",
    "Reinitialize Retriever for LCEL Chain\n",
    "\n",
    "Ensuring we have a properly configured retriever component\n",
    "for the custom LCEL implementation.\n",
    "\"\"\"\n",
    "retriever = vectorstore.as_retriever(\n",
    "    search_kwarg={\"k\": 3}  # Retrieve top 3 relevant chunks\n",
    ")\n",
    "retriever"
   ]
  },
  {
   "cell_type": "code",
   "execution_count": null,
   "id": "2741b848",
   "metadata": {},
   "outputs": [],
   "source": [
    "\"\"\"\n",
    "Document Formatting Function\n",
    "\n",
    "format_docs converts list of Document objects to plain text:\n",
    "- Takes retrieved documents\n",
    "- Extracts page_content from each\n",
    "- Joins with double newlines for readability\n",
    "- Returns formatted string for prompt context\n",
    "\"\"\"\n",
    "def format_docs(docs):\n",
    "    \"\"\"Convert retrieved documents to formatted text string\"\"\"\n",
    "    return \"\\n\\n\".join(doc.page_content for doc in docs)"
   ]
  },
  {
   "cell_type": "code",
   "execution_count": null,
   "id": "662cc90b",
   "metadata": {},
   "outputs": [
    {
     "data": {
      "text/plain": [
       "{\n",
       "  context: VectorStoreRetriever(tags=['Chroma', 'GoogleGenerativeAIEmbeddings'], vectorstore=<langchain_community.vectorstores.chroma.Chroma object at 0x7f17025ca030>, search_kwargs={})\n",
       "           | RunnableLambda(format_docs),\n",
       "  question: RunnablePassthrough()\n",
       "}\n",
       "| ChatPromptTemplate(input_variables=['context', 'question'], input_types={}, partial_variables={}, messages=[HumanMessagePromptTemplate(prompt=PromptTemplate(input_variables=['context', 'question'], input_types={}, partial_variables={}, template=\"Use the following context to answer the question. \\nIf you don't know the answer based on the context, say you don't know.\\nProvide specific details from the context to support your answer.\\n\\nContext:\\n{context}\\n\\nQuestion: {question}\\n\\nAnswer:\"), additional_kwargs={})])\n",
       "| ChatGoogleGenerativeAI(model='models/gemini-2.0-flash', google_api_key=SecretStr('**********'), temperature=0.0, max_retries=2, client=<google.ai.generativelanguage_v1beta.services.generative_service.client.GenerativeServiceClient object at 0x7f1700427620>, default_metadata=())\n",
       "| StrOutputParser()"
      ]
     },
     "execution_count": 47,
     "metadata": {},
     "output_type": "execute_result"
    }
   ],
   "source": [
    "\"\"\"\n",
    "Build RAG Chain Using LCEL\n",
    "\n",
    "This chain uses LCEL syntax (| operators) to create a pipeline:\n",
    "1. Parallel processing: context from retriever, question passthrough\n",
    "2. format_docs processes retrieved documents  \n",
    "3. Prompt template combines context + question\n",
    "4. LLM generates response\n",
    "5. StrOutputParser extracts plain text\n",
    "\n",
    "RunnablePassthrough: Passes the input question unchanged\n",
    "| operator: Chains components together in sequence\n",
    "\"\"\"\n",
    "rag_chain_lcel = (\n",
    "    {  # Parallel processing of inputs\n",
    "        \"context\": retriever | format_docs,  # Retrieve docs → format them\n",
    "        \"question\": RunnablePassthrough()  # Pass question through unchanged\n",
    "    }\n",
    "    | custom_prompt  # Insert into prompt template\n",
    "    | llm  # Generate response with LLM\n",
    "    | StrOutputParser()  # Convert to plain string\n",
    ")\n",
    "\n",
    "rag_chain_lcel"
   ]
  },
  {
   "cell_type": "code",
   "execution_count": null,
   "id": "18203630",
   "metadata": {},
   "outputs": [
    {
     "data": {
      "text/plain": [
       "'Deep learning is a subset of machine learning based on artificial neural networks. These networks are inspired by the human brain and consist of layers of interconnected nodes.'"
      ]
     },
     "execution_count": 48,
     "metadata": {},
     "output_type": "execute_result"
    }
   ],
   "source": [
    "\"\"\"Test LCEL RAG Chain\"\"\"\n",
    "response = rag_chain_lcel.invoke(\"What is Deep Learning\")\n",
    "response"
   ]
  },
  {
   "cell_type": "code",
   "execution_count": null,
   "id": "804eea02",
   "metadata": {},
   "outputs": [
    {
     "name": "stderr",
     "output_type": "stream",
     "text": [
      "/tmp/ipykernel_13396/458153282.py:1: LangChainDeprecationWarning: The method `BaseRetriever.get_relevant_documents` was deprecated in langchain-core 0.1.46 and will be removed in 1.0. Use :meth:`~invoke` instead.\n",
      "  retriever.get_relevant_documents(\"What is Deep Learning\")\n"
     ]
    },
    {
     "data": {
      "text/plain": [
       "[Document(metadata={'source': 'data/doc_1.txt'}, page_content='Deep Learning and Neural Networks\\n\\n    Deep learning is a subset of machine learning based on artificial neural networks. \\n    These networks are inspired by the human brain and consist of layers of interconnected \\n    nodes. Deep learning has revolutionized fields like computer vision, natural language \\n    processing, and speech recognition. Convolutional Neural Networks (CNNs) are particularly \\n    effective for image processing, while Recurrent Neural Networks (RNNs) and Transformers'),\n",
       " Document(metadata={'source': 'data/doc_0.txt'}, page_content='Machine Learning Fundamentals\\n\\n    Machine learning is a subset of artificial intelligence that enables systems to learn \\n    and improve from experience without being explicitly programmed. There are three main \\n    types of machine learning: supervised learning, unsupervised learning, and reinforcement \\n    learning. Supervised learning uses labeled data to train models, while unsupervised \\n    learning finds patterns in unlabeled data. Reinforcement learning learns through'),\n",
       " Document(metadata={'source': 'data/doc_0.txt'}, page_content='data. Reinforcement learning learns through \\n    interaction with an environment using rewards and penalties.'),\n",
       " Document(metadata={'source': 'data/doc_1.txt'}, page_content='Neural Networks (RNNs) and Transformers \\n    excel at sequential data processing.')]"
      ]
     },
     "execution_count": 49,
     "metadata": {},
     "output_type": "execute_result"
    }
   ],
   "source": [
    "\"\"\"Test Direct Retriever Access\"\"\"\n",
    "retriever.get_relevant_documents(\"What is Deep Learning\")"
   ]
  },
  {
   "cell_type": "code",
   "execution_count": null,
   "id": "bc8bbe2d",
   "metadata": {},
   "outputs": [],
   "source": [
    "\"\"\"\n",
    "LCEL RAG Query Function\n",
    "\n",
    "Demonstrates querying with LCEL chain:\n",
    "- Shows both answer and source documents\n",
    "- Provides transparency into retrieval process\n",
    "- Useful for debugging and understanding system behavior\n",
    "\"\"\"\n",
    "def query_rag_lcel(question):\n",
    "    \"\"\"Query RAG system using LCEL implementation\"\"\"\n",
    "    print(f\"Question: {question}\")\n",
    "    print(\"-\" * 50)\n",
    "    \n",
    "    # Get answer using LCEL chain (pass string directly)\n",
    "    answer = rag_chain_lcel.invoke(question)\n",
    "    print(f\"Answer: {answer}\")\n",
    "    \n",
    "    # Get source documents separately for display\n",
    "    docs = retriever.get_relevant_documents(question)\n",
    "    print(\"\\nSource Documents:\")\n",
    "    for i, doc in enumerate(docs):\n",
    "        print(f\"\\n--- Source {i+1} ---\")\n",
    "        print(doc.page_content[:200] + \"...\")"
   ]
  },
  {
   "cell_type": "code",
   "execution_count": null,
   "id": "8e2bd632",
   "metadata": {},
   "outputs": [
    {
     "name": "stdout",
     "output_type": "stream",
     "text": [
      "Testing LCEL Chain:\n",
      "Question: What are the key concepts in reinforcement learning?\n",
      "--------------------------------------------------\n",
      "Answer: Based on the context, the key concept in reinforcement learning is that it \"learns through interaction with an environment using rewards and penalties.\"\n",
      "\n",
      "Source Documents:\n",
      "\n",
      "--- Source 1 ---\n",
      "data. Reinforcement learning learns through \n",
      "    interaction with an environment using rewards and penalties....\n",
      "\n",
      "--- Source 2 ---\n",
      "Machine Learning Fundamentals\n",
      "\n",
      "    Machine learning is a subset of artificial intelligence that enables systems to learn \n",
      "    and improve from experience without being explicitly programmed. There are...\n",
      "\n",
      "--- Source 3 ---\n",
      "Deep Learning and Neural Networks\n",
      "\n",
      "    Deep learning is a subset of machine learning based on artificial neural networks. \n",
      "    These networks are inspired by the human brain and consist of layers of i...\n",
      "\n",
      "--- Source 4 ---\n",
      "Neural Networks (RNNs) and Transformers \n",
      "    excel at sequential data processing....\n"
     ]
    }
   ],
   "source": [
    "\"\"\"Test LCEL Chain with Sample Questions\"\"\"\n",
    "print(\"Testing LCEL Chain:\")\n",
    "query_rag_lcel(\"What are the key concepts in reinforcement learning?\")"
   ]
  },
  {
   "cell_type": "code",
   "execution_count": 52,
   "id": "9acc05ee",
   "metadata": {},
   "outputs": [
    {
     "name": "stdout",
     "output_type": "stream",
     "text": [
      "Question: What is machine learning?\n",
      "--------------------------------------------------\n",
      "Answer: Machine learning is a subset of artificial intelligence that enables systems to learn and improve from experience without being explicitly programmed.\n",
      "\n",
      "Source Documents:\n",
      "\n",
      "--- Source 1 ---\n",
      "Machine Learning Fundamentals\n",
      "\n",
      "    Machine learning is a subset of artificial intelligence that enables systems to learn \n",
      "    and improve from experience without being explicitly programmed. There are...\n",
      "\n",
      "--- Source 2 ---\n",
      "Deep Learning and Neural Networks\n",
      "\n",
      "    Deep learning is a subset of machine learning based on artificial neural networks. \n",
      "    These networks are inspired by the human brain and consist of layers of i...\n",
      "\n",
      "--- Source 3 ---\n",
      "data. Reinforcement learning learns through \n",
      "    interaction with an environment using rewards and penalties....\n",
      "\n",
      "--- Source 4 ---\n",
      "Natural Language Processing (NLP)\n",
      "\n",
      "    NLP is a field of AI that focuses on the interaction between computers and human language. \n",
      "    Key tasks in NLP include text classification, named entity recogn...\n"
     ]
    }
   ],
   "source": [
    "query_rag_lcel(\"What is machine learning?\")"
   ]
  },
  {
   "cell_type": "code",
   "execution_count": null,
   "id": "0c30328c",
   "metadata": {},
   "outputs": [
    {
     "name": "stdout",
     "output_type": "stream",
     "text": [
      "Question: What is depe learning?\n",
      "--------------------------------------------------\n",
      "Answer: Deep learning is a subset of machine learning based on artificial neural networks. These networks are inspired by the human brain and consist of layers of interconnected nodes.\n",
      "\n",
      "Source Documents:\n",
      "\n",
      "--- Source 1 ---\n",
      "data. Reinforcement learning learns through \n",
      "    interaction with an environment using rewards and penalties....\n",
      "\n",
      "--- Source 2 ---\n",
      "Deep Learning and Neural Networks\n",
      "\n",
      "    Deep learning is a subset of machine learning based on artificial neural networks. \n",
      "    These networks are inspired by the human brain and consist of layers of i...\n",
      "\n",
      "--- Source 3 ---\n",
      "Machine Learning Fundamentals\n",
      "\n",
      "    Machine learning is a subset of artificial intelligence that enables systems to learn \n",
      "    and improve from experience without being explicitly programmed. There are...\n",
      "\n",
      "--- Source 4 ---\n",
      "Natural Language Processing (NLP)\n",
      "\n",
      "    NLP is a field of AI that focuses on the interaction between computers and human language. \n",
      "    Key tasks in NLP include text classification, named entity recogn...\n"
     ]
    }
   ],
   "source": [
    "query_rag_lcel(\"What is deep learning?\")"
   ]
  },
  {
   "cell_type": "markdown",
   "id": "38d52339",
   "metadata": {},
   "source": [
    "## 10. Dynamic Knowledge Base Updates\n",
    "Demonstrating how to add new information to an existing vector store without rebuilding the entire system."
   ]
  },
  {
   "cell_type": "code",
   "execution_count": null,
   "id": "6f04f46a",
   "metadata": {},
   "outputs": [
    {
     "data": {
      "text/plain": [
       "<langchain_community.vectorstores.chroma.Chroma at 0x7f17025ca030>"
      ]
     },
     "execution_count": 54,
     "metadata": {},
     "output_type": "execute_result"
    }
   ],
   "source": [
    "# Check current vector store status\n",
    "vectorstore"
   ]
  },
  {
   "cell_type": "code",
   "execution_count": null,
   "id": "a6149ccb",
   "metadata": {},
   "outputs": [],
   "source": [
    "\"\"\"\n",
    "Create New Document Content\n",
    "\n",
    "Adding detailed information about Reinforcement Learning\n",
    "to expand our knowledge base and test dynamic updates.\n",
    "\"\"\"\n",
    "new_document = \"\"\"\n",
    "Reinforcement Learning in Detail\n",
    "\n",
    "Reinforcement learning (RL) is a type of machine learning where an agent learns to make \n",
    "decisions by interacting with an environment. The agent receives rewards or penalties \n",
    "based on its actions and learns to maximize cumulative reward over time. Key concepts \n",
    "in RL include: states, actions, rewards, policies, and value functions. Popular RL \n",
    "algorithms include Q-learning, Deep Q-Networks (DQN), Policy Gradient methods, and \n",
    "Actor-Critic methods. RL has been successfully applied to game playing (like AlphaGo), \n",
    "robotics, and autonomous systems.\n",
    "\"\"\""
   ]
  },
  {
   "cell_type": "code",
   "execution_count": null,
   "id": "d4aa1775",
   "metadata": {},
   "outputs": [
    {
     "data": {
      "text/plain": [
       "[Document(metadata={'source': 'data/doc_2.txt'}, page_content='Natural Language Processing (NLP)\\n\\n    NLP is a field of AI that focuses on the interaction between computers and human language. \\n    Key tasks in NLP include text classification, named entity recognition, sentiment analysis, \\n    machine translation, and question answering. Modern NLP heavily relies on transformer \\n    architectures like BERT, GPT, and T5. These models use attention mechanisms to understand \\n    context and relationships between words in text.'),\n",
       " Document(metadata={'source': 'data/doc_0.txt'}, page_content='Machine Learning Fundamentals\\n\\n    Machine learning is a subset of artificial intelligence that enables systems to learn \\n    and improve from experience without being explicitly programmed. There are three main \\n    types of machine learning: supervised learning, unsupervised learning, and reinforcement \\n    learning. Supervised learning uses labeled data to train models, while unsupervised \\n    learning finds patterns in unlabeled data. Reinforcement learning learns through'),\n",
       " Document(metadata={'source': 'data/doc_0.txt'}, page_content='data. Reinforcement learning learns through \\n    interaction with an environment using rewards and penalties.'),\n",
       " Document(metadata={'source': 'data/doc_1.txt'}, page_content='Deep Learning and Neural Networks\\n\\n    Deep learning is a subset of machine learning based on artificial neural networks. \\n    These networks are inspired by the human brain and consist of layers of interconnected \\n    nodes. Deep learning has revolutionized fields like computer vision, natural language \\n    processing, and speech recognition. Convolutional Neural Networks (CNNs) are particularly \\n    effective for image processing, while Recurrent Neural Networks (RNNs) and Transformers'),\n",
       " Document(metadata={'source': 'data/doc_1.txt'}, page_content='Neural Networks (RNNs) and Transformers \\n    excel at sequential data processing.')]"
      ]
     },
     "execution_count": 56,
     "metadata": {},
     "output_type": "execute_result"
    }
   ],
   "source": [
    "# Check existing chunks before adding new ones\n",
    "chunks"
   ]
  },
  {
   "cell_type": "code",
   "execution_count": null,
   "id": "bd23b56c",
   "metadata": {},
   "outputs": [],
   "source": [
    "\"\"\"\n",
    "Create Document Object for New Content\n",
    "\n",
    "Converting raw text to LangChain Document format:\n",
    "- page_content: The actual text content\n",
    "- metadata: Additional information (source, topic, etc.)\n",
    "\"\"\"\n",
    "new_doc = Document(\n",
    "    page_content=new_document,\n",
    "    metadata={\"source\": \"manual_addition\", \"topic\": \"reinforcement_learning\"}\n",
    ")"
   ]
  },
  {
   "cell_type": "code",
   "execution_count": null,
   "id": "f302bbc3",
   "metadata": {},
   "outputs": [
    {
     "data": {
      "text/plain": [
       "Document(metadata={'source': 'manual_addition', 'topic': 'reinforcement_learning'}, page_content='\\nReinforcement Learning in Detail\\n\\nReinforcement learning (RL) is a type of machine learning where an agent learns to make \\ndecisions by interacting with an environment. The agent receives rewards or penalties \\nbased on its actions and learns to maximize cumulative reward over time. Key concepts \\nin RL include: states, actions, rewards, policies, and value functions. Popular RL \\nalgorithms include Q-learning, Deep Q-Networks (DQN), Policy Gradient methods, and \\nActor-Critic methods. RL has been successfully applied to game playing (like AlphaGo), \\nrobotics, and autonomous systems.\\n')"
      ]
     },
     "execution_count": 58,
     "metadata": {},
     "output_type": "execute_result"
    }
   ],
   "source": [
    "# Display the new document structure\n",
    "new_doc"
   ]
  },
  {
   "cell_type": "code",
   "execution_count": null,
   "id": "078a2081",
   "metadata": {},
   "outputs": [
    {
     "data": {
      "text/plain": [
       "[Document(metadata={'source': 'manual_addition', 'topic': 'reinforcement_learning'}, page_content='Reinforcement Learning in Detail\\n\\nReinforcement learning (RL) is a type of machine learning where an agent learns to make \\ndecisions by interacting with an environment. The agent receives rewards or penalties \\nbased on its actions and learns to maximize cumulative reward over time. Key concepts \\nin RL include: states, actions, rewards, policies, and value functions. Popular RL \\nalgorithms include Q-learning, Deep Q-Networks (DQN), Policy Gradient methods, and \\nActor-Critic methods. RL has been'),\n",
       " Document(metadata={'source': 'manual_addition', 'topic': 'reinforcement_learning'}, page_content='methods, and \\nActor-Critic methods. RL has been successfully applied to game playing (like AlphaGo), \\nrobotics, and autonomous systems.')]"
      ]
     },
     "execution_count": 59,
     "metadata": {},
     "output_type": "execute_result"
    }
   ],
   "source": [
    "\"\"\"\n",
    "Split New Document into Chunks\n",
    "\n",
    "Using the same text splitter to maintain consistency:\n",
    "- Ensures new chunks have similar size to existing ones\n",
    "- Maintains overlap for context preservation\n",
    "\"\"\"\n",
    "new_chunks = text_splitter.split_documents([new_doc])\n",
    "new_chunks"
   ]
  },
  {
   "cell_type": "code",
   "execution_count": null,
   "id": "a9780846",
   "metadata": {},
   "outputs": [
    {
     "data": {
      "text/plain": [
       "['e79bfafe-8688-4026-a63d-c6edd7f08aff',\n",
       " 'bd468126-aed9-4395-b0a2-2eeb36ba25fa']"
      ]
     },
     "execution_count": 61,
     "metadata": {},
     "output_type": "execute_result"
    }
   ],
   "source": [
    "\"\"\"\n",
    "Add New Chunks to Existing Vector Store\n",
    "\n",
    "add_documents method:\n",
    "1. Converts new chunks to embeddings\n",
    "2. Stores them in existing ChromaDB collection  \n",
    "3. Updates the searchable index\n",
    "4. No need to rebuild entire vector store\n",
    "\"\"\"\n",
    "vectorstore.add_documents(new_chunks)"
   ]
  },
  {
   "cell_type": "code",
   "execution_count": null,
   "id": "d3fd7d03",
   "metadata": {},
   "outputs": [
    {
     "name": "stdout",
     "output_type": "stream",
     "text": [
      "Added 2 new chunks to the vector store\n",
      "Total vectors now: 5\n"
     ]
    }
   ],
   "source": [
    "\"\"\"Display Updated Vector Store Statistics\"\"\"\n",
    "print(f\"Added {len(new_chunks)} new chunks to the vector store\")\n",
    "print(f\"Total vectors now: {vectorstore._collection.count()}\")"
   ]
  },
  {
   "cell_type": "code",
   "execution_count": null,
   "id": "923abd33",
   "metadata": {},
   "outputs": [
    {
     "name": "stdout",
     "output_type": "stream",
     "text": [
      "Question: What are the keys concepts in reinforcement learning\n",
      "--------------------------------------------------\n",
      "Answer: Based on the context, the key concepts in reinforcement learning are: states, actions, rewards, policies, and value functions.\n",
      "\n",
      "Source Documents:\n",
      "\n",
      "--- Source 1 ---\n",
      "Reinforcement Learning in Detail\n",
      "\n",
      "Reinforcement learning (RL) is a type of machine learning where an agent learns to make \n",
      "decisions by interacting with an environment. The agent receives rewards or p...\n",
      "\n",
      "--- Source 2 ---\n",
      "data. Reinforcement learning learns through \n",
      "    interaction with an environment using rewards and penalties....\n",
      "\n",
      "--- Source 3 ---\n",
      "methods, and \n",
      "Actor-Critic methods. RL has been successfully applied to game playing (like AlphaGo), \n",
      "robotics, and autonomous systems....\n",
      "\n",
      "--- Source 4 ---\n",
      "Machine Learning Fundamentals\n",
      "\n",
      "    Machine learning is a subset of artificial intelligence that enables systems to learn \n",
      "    and improve from experience without being explicitly programmed. There are...\n"
     ]
    }
   ],
   "source": [
    "\"\"\"\n",
    "Test Updated Knowledge Base\n",
    "\n",
    "Querying about reinforcement learning should now return\n",
    "information from our newly added document.\n",
    "\"\"\"\n",
    "new_question = \"What are the key concepts in reinforcement learning\"\n",
    "result = query_rag_lcel(new_question)\n",
    "result"
   ]
  },
  {
   "cell_type": "markdown",
   "id": "7a35e24f",
   "metadata": {},
   "source": [
    "## 11. Advanced RAG: Conversational Memory\n",
    "\n",
    "### Why Conversational Memory Matters?\n",
    "\n",
    "**Problem:** Traditional RAG only considers the current query, missing conversational context.\n",
    "\n",
    "**Example:**\n",
    "- User: \"Tell me about Python\"  \n",
    "- Bot: *explains Python programming*\n",
    "- User: \"What are its main libraries?\" ← **\"its\" refers to Python, but RAG doesn't know this**\n",
    "\n",
    "**Solution:** Conversational RAG maintains chat history and reformulates context-dependent questions.\n",
    "\n",
    "### Key Components:\n",
    "- **create_history_aware_retriever**: Makes retriever understand conversation context\n",
    "- **MessagesPlaceholder**: Stores chat history in prompts  \n",
    "- **HumanMessage/AIMessage**: Structured conversation format"
   ]
  },
  {
   "cell_type": "code",
   "execution_count": null,
   "id": "f4046a5a",
   "metadata": {},
   "outputs": [],
   "source": [
    "\"\"\"\n",
    "Import Conversational RAG Components\n",
    "\n",
    "- create_history_aware_retriever: Adds chat history awareness to retrieval\n",
    "- MessagesPlaceholder: Template placeholder for conversation history\n",
    "- HumanMessage/AIMessage: Structured message types for chat history\n",
    "\"\"\"\n",
    "from langchain.chains import create_history_aware_retriever\n",
    "from langchain_core.prompts import MessagesPlaceholder\n",
    "from langchain_core.messages import HumanMessage, AIMessage"
   ]
  },
  {
   "cell_type": "code",
   "execution_count": null,
   "id": "cfbeabac",
   "metadata": {},
   "outputs": [],
   "source": [
    "\"\"\"\n",
    "Create History-Aware Query Reformulation Prompt\n",
    "\n",
    "This prompt teaches the LLM to:\n",
    "1. Look at chat history + current question\n",
    "2. Reformulate context-dependent questions into standalone queries\n",
    "3. NOT answer the question, just make it self-contained\n",
    "\n",
    "Example transformation:\n",
    "\"What are its types?\" → \"What are the types of machine learning?\"\n",
    "\"\"\"\n",
    "contextualize_q_system_prompt = \"\"\"Given a chat history and the latest user question \n",
    "which might reference context in the chat history, formulate a standalone question \n",
    "which can be understood without the chat history. Do NOT answer the question, \n",
    "just reformulate it if needed and otherwise return it as is.\"\"\"\n",
    "\n",
    "contextualize_q_prompt = ChatPromptTemplate.from_messages([\n",
    "    (\"system\", contextualize_q_system_prompt),\n",
    "    MessagesPlaceholder(\"chat_history\"),  # Placeholder for conversation history\n",
    "    (\"human\", \"{input}\"),  # Current user question\n",
    "])"
   ]
  },
  {
   "cell_type": "code",
   "execution_count": null,
   "id": "8ae893c0",
   "metadata": {},
   "outputs": [
    {
     "data": {
      "text/plain": [
       "RunnableBinding(bound=RunnableBranch(branches=[(RunnableLambda(lambda x: not x.get('chat_history', False)), RunnableLambda(lambda x: x['input'])\n",
       "| VectorStoreRetriever(tags=['Chroma', 'GoogleGenerativeAIEmbeddings'], vectorstore=<langchain_community.vectorstores.chroma.Chroma object at 0x7f17025ca030>, search_kwargs={}))], default=ChatPromptTemplate(input_variables=['chat_history', 'input'], input_types={'chat_history': list[typing.Annotated[typing.Union[typing.Annotated[langchain_core.messages.ai.AIMessage, Tag(tag='ai')], typing.Annotated[langchain_core.messages.human.HumanMessage, Tag(tag='human')], typing.Annotated[langchain_core.messages.chat.ChatMessage, Tag(tag='chat')], typing.Annotated[langchain_core.messages.system.SystemMessage, Tag(tag='system')], typing.Annotated[langchain_core.messages.function.FunctionMessage, Tag(tag='function')], typing.Annotated[langchain_core.messages.tool.ToolMessage, Tag(tag='tool')], typing.Annotated[langchain_core.messages.ai.AIMessageChunk, Tag(tag='AIMessageChunk')], typing.Annotated[langchain_core.messages.human.HumanMessageChunk, Tag(tag='HumanMessageChunk')], typing.Annotated[langchain_core.messages.chat.ChatMessageChunk, Tag(tag='ChatMessageChunk')], typing.Annotated[langchain_core.messages.system.SystemMessageChunk, Tag(tag='SystemMessageChunk')], typing.Annotated[langchain_core.messages.function.FunctionMessageChunk, Tag(tag='FunctionMessageChunk')], typing.Annotated[langchain_core.messages.tool.ToolMessageChunk, Tag(tag='ToolMessageChunk')]], FieldInfo(annotation=NoneType, required=True, discriminator=Discriminator(discriminator=<function _get_type at 0x7f1719713ec0>, custom_error_type=None, custom_error_message=None, custom_error_context=None))]]}, partial_variables={}, messages=[SystemMessagePromptTemplate(prompt=PromptTemplate(input_variables=[], input_types={}, partial_variables={}, template='Given a chat history and the latest user question \\nwhich might reference context in the chat history, formulate a standalone question \\nwhich can be understood without the chat history. Do NOT answer the question, \\njust reformulate it if needed and otherwise return it as is.'), additional_kwargs={}), MessagesPlaceholder(variable_name='chat_history'), HumanMessagePromptTemplate(prompt=PromptTemplate(input_variables=['input'], input_types={}, partial_variables={}, template='{input}'), additional_kwargs={})])\n",
       "| ChatGoogleGenerativeAI(model='models/gemini-2.0-flash', google_api_key=SecretStr('**********'), temperature=0.0, max_retries=2, client=<google.ai.generativelanguage_v1beta.services.generative_service.client.GenerativeServiceClient object at 0x7f1700427620>, default_metadata=())\n",
       "| StrOutputParser()\n",
       "| VectorStoreRetriever(tags=['Chroma', 'GoogleGenerativeAIEmbeddings'], vectorstore=<langchain_community.vectorstores.chroma.Chroma object at 0x7f17025ca030>, search_kwargs={})), kwargs={}, config={'run_name': 'chat_retriever_chain'}, config_factories=[])"
      ]
     },
     "execution_count": 65,
     "metadata": {},
     "output_type": "execute_result"
    }
   ],
   "source": [
    "\"\"\"\n",
    "Create History-Aware Retriever\n",
    "\n",
    "create_history_aware_retriever enhances our retriever:\n",
    "1. Takes chat history + current question\n",
    "2. Uses LLM to reformulate question if needed  \n",
    "3. Uses reformulated question for document retrieval\n",
    "4. Returns relevant documents with full context understanding\n",
    "\"\"\"\n",
    "history_aware_retriever = create_history_aware_retriever(\n",
    "    llm,  # LLM for query reformulation\n",
    "    retriever,  # Our original document retriever\n",
    "    contextualize_q_prompt  # Prompt for reformulation\n",
    ")\n",
    "history_aware_retriever"
   ]
  },
  {
   "cell_type": "code",
   "execution_count": null,
   "id": "65df3314",
   "metadata": {},
   "outputs": [
    {
     "name": "stdout",
     "output_type": "stream",
     "text": [
      "Conversational RAG chain created!\n"
     ]
    }
   ],
   "source": [
    "\"\"\"\n",
    "Create Conversational QA Chain\n",
    "\n",
    "Building a complete conversational RAG system:\n",
    "1. History-aware prompt includes chat history\n",
    "2. Document chain processes retrieved documents\n",
    "3. Retrieval chain combines everything together\n",
    "\"\"\"\n",
    "# Create prompt that includes chat history\n",
    "qa_system_prompt = \"\"\"You are an assistant for question-answering tasks. \n",
    "Use the following pieces of retrieved context to answer the question. \n",
    "If you don't know the answer, just say that you don't know. \n",
    "Use three sentences maximum and keep the answer concise.\n",
    "\n",
    "Context: {context}\"\"\"\n",
    "\n",
    "qa_prompt = ChatPromptTemplate.from_messages([\n",
    "    (\"system\", qa_system_prompt),\n",
    "    MessagesPlaceholder(\"chat_history\"),  # Include conversation history\n",
    "    (\"human\", \"{input}\"),\n",
    "])\n",
    "\n",
    "# Create document processing chain with history awareness\n",
    "question_answer_chain = create_stuff_documents_chain(llm, qa_prompt)\n",
    "\n",
    "# Create complete conversational RAG chain\n",
    "conversational_rag_chain = create_retrieval_chain(\n",
    "    history_aware_retriever,  # History-aware retrieval\n",
    "    question_answer_chain  # History-aware document processing\n",
    ")\n",
    "print(\"Conversational RAG chain created!\")"
   ]
  },
  {
   "cell_type": "code",
   "execution_count": null,
   "id": "26b8a14c",
   "metadata": {},
   "outputs": [
    {
     "name": "stdout",
     "output_type": "stream",
     "text": [
      "Q: What is machine learning?\n",
      "A: Machine learning is a subset of artificial intelligence that enables systems to learn and improve from experience without being explicitly programmed. There are three main types: supervised learning, unsupervised learning, and reinforcement learning. Reinforcement learning learns through interaction with an environment using rewards and penalties.\n"
     ]
    }
   ],
   "source": [
    "\"\"\"\n",
    "Test Conversational RAG - First Question\n",
    "\n",
    "Starting a conversation about machine learning.\n",
    "Notice how we initialize empty chat history.\n",
    "\"\"\"\n",
    "chat_history = []\n",
    "\n",
    "# First question establishes context\n",
    "result1 = conversational_rag_chain.invoke({\n",
    "    \"chat_history\": chat_history,\n",
    "    \"input\": \"What is machine learning?\"\n",
    "})\n",
    "print(f\"Q: What is machine learning?\")\n",
    "print(f\"A: {result1['answer']}\")"
   ]
  },
  {
   "cell_type": "code",
   "execution_count": null,
   "id": "ee4ce336",
   "metadata": {},
   "outputs": [],
   "source": [
    "\"\"\"\n",
    "Update Chat History\n",
    "\n",
    "Adding first Q&A pair to chat history:\n",
    "- HumanMessage: User's question\n",
    "- AIMessage: Assistant's response\n",
    "\n",
    "This history will be used to understand follow-up questions.\n",
    "\"\"\"\n",
    "chat_history.extend([\n",
    "    HumanMessage(content=\"What is machine learning\"),\n",
    "    AIMessage(content=result1['answer'])\n",
    "])"
   ]
  },
  {
   "cell_type": "code",
   "execution_count": null,
   "id": "8bd2b83f",
   "metadata": {},
   "outputs": [
    {
     "data": {
      "text/plain": [
       "[HumanMessage(content='What is machine learning', additional_kwargs={}, response_metadata={}),\n",
       " AIMessage(content='Machine learning is a subset of artificial intelligence that enables systems to learn and improve from experience without being explicitly programmed. There are three main types: supervised learning, unsupervised learning, and reinforcement learning. Reinforcement learning learns through interaction with an environment using rewards and penalties.', additional_kwargs={}, response_metadata={})]"
      ]
     },
     "execution_count": 69,
     "metadata": {},
     "output_type": "execute_result"
    }
   ],
   "source": [
    "# Display current chat history structure\n",
    "chat_history"
   ]
  },
  {
   "cell_type": "code",
   "execution_count": null,
   "id": "36ff946c",
   "metadata": {},
   "outputs": [
    {
     "data": {
      "text/plain": [
       "{'chat_history': [HumanMessage(content='What is machine learning', additional_kwargs={}, response_metadata={}),\n",
       "  AIMessage(content='Machine learning is a subset of artificial intelligence that enables systems to learn and improve from experience without being explicitly programmed. There are three main types: supervised learning, unsupervised learning, and reinforcement learning. Reinforcement learning learns through interaction with an environment using rewards and penalties.', additional_kwargs={}, response_metadata={})],\n",
       " 'input': 'What are its main types?',\n",
       " 'context': [Document(metadata={'source': 'data/doc_0.txt'}, page_content='Machine Learning Fundamentals\\n\\n    Machine learning is a subset of artificial intelligence that enables systems to learn \\n    and improve from experience without being explicitly programmed. There are three main \\n    types of machine learning: supervised learning, unsupervised learning, and reinforcement \\n    learning. Supervised learning uses labeled data to train models, while unsupervised \\n    learning finds patterns in unlabeled data. Reinforcement learning learns through'),\n",
       "  Document(metadata={'source': 'manual_addition', 'topic': 'reinforcement_learning'}, page_content='Reinforcement Learning in Detail\\n\\nReinforcement learning (RL) is a type of machine learning where an agent learns to make \\ndecisions by interacting with an environment. The agent receives rewards or penalties \\nbased on its actions and learns to maximize cumulative reward over time. Key concepts \\nin RL include: states, actions, rewards, policies, and value functions. Popular RL \\nalgorithms include Q-learning, Deep Q-Networks (DQN), Policy Gradient methods, and \\nActor-Critic methods. RL has been'),\n",
       "  Document(metadata={'source': 'data/doc_0.txt'}, page_content='data. Reinforcement learning learns through \\n    interaction with an environment using rewards and penalties.'),\n",
       "  Document(metadata={'source': 'data/doc_1.txt'}, page_content='Deep Learning and Neural Networks\\n\\n    Deep learning is a subset of machine learning based on artificial neural networks. \\n    These networks are inspired by the human brain and consist of layers of interconnected \\n    nodes. Deep learning has revolutionized fields like computer vision, natural language \\n    processing, and speech recognition. Convolutional Neural Networks (CNNs) are particularly \\n    effective for image processing, while Recurrent Neural Networks (RNNs) and Transformers')],\n",
       " 'answer': 'The main types of machine learning are supervised learning, unsupervised learning, and reinforcement learning. Supervised learning uses labeled data, while unsupervised learning finds patterns in unlabeled data. Reinforcement learning learns through interaction with an environment using rewards and penalties.'}"
      ]
     },
     "execution_count": 70,
     "metadata": {},
     "output_type": "execute_result"
    }
   ],
   "source": [
    "\"\"\"\n",
    "Test Follow-up Question with Context\n",
    "\n",
    "\"What are its main types?\" refers to machine learning types.\n",
    "The conversational RAG system should:\n",
    "1. Understand \"its\" refers to ML from previous question\n",
    "2. Reformulate query to \"What are the main types of machine learning?\"\n",
    "3. Retrieve relevant documents about ML types\n",
    "4. Provide contextual answer\n",
    "\"\"\"\n",
    "# Follow-up question that depends on conversation context\n",
    "result2 = conversational_rag_chain.invoke({\n",
    "    \"chat_history\": chat_history,\n",
    "    \"input\": \"What are its main types?\"  # \"its\" refers to ML from previous question\n",
    "})\n",
    "result2"
   ]
  },
  {
   "cell_type": "code",
   "execution_count": null,
   "id": "770e2f9a",
   "metadata": {},
   "outputs": [
    {
     "data": {
      "text/plain": [
       "'The main types of machine learning are supervised learning, unsupervised learning, and reinforcement learning. Supervised learning uses labeled data, while unsupervised learning finds patterns in unlabeled data. Reinforcement learning learns through interaction with an environment using rewards and penalties.'"
      ]
     },
     "execution_count": 71,
     "metadata": {},
     "output_type": "execute_result"
    }
   ],
   "source": [
    "\"\"\"Display the follow-up answer\"\"\"\n",
    "result2['answer']"
   ]
  },
  {
   "cell_type": "code",
   "execution_count": null,
   "id": "e9dbebd4",
   "metadata": {},
   "outputs": [],
   "source": [
    "\"\"\"\n",
    "Conversational RAG Complete!\n",
    "\n",
    "This notebook demonstrated:\n",
    "✅ Document loading and chunking\n",
    "✅ Vector embeddings with Google Gemini  \n",
    "✅ ChromaDB vector store setup\n",
    "✅ Similarity search and retrieval\n",
    "✅ Complete RAG pipeline with LangChain\n",
    "✅ Alternative LCEL implementation\n",
    "✅ Dynamic knowledge base updates\n",
    "✅ Conversational memory for context-aware Q&A\n",
    "\n",
    "Your RAG system can now:\n",
    "- Answer questions using your documents\n",
    "- Maintain conversation context\n",
    "- Add new knowledge dynamically  \n",
    "- Provide source citations\n",
    "- Handle follow-up questions intelligently\n",
    "\"\"\""
   ]
  }
 ],
 "metadata": {
  "kernelspec": {
   "display_name": "Rag_Course",
   "language": "python",
   "name": "python3"
  },
  "language_info": {
   "codemirror_mode": {
    "name": "ipython",
    "version": 3
   },
   "file_extension": ".py",
   "mimetype": "text/x-python",
   "name": "python",
   "nbconvert_exporter": "python",
   "pygments_lexer": "ipython3",
   "version": "3.12.3"
  }
 },
 "nbformat": 4,
 "nbformat_minor": 5
}
